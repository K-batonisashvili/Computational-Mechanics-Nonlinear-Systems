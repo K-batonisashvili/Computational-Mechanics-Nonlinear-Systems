{
 "cells": [
  {
   "cell_type": "markdown",
   "metadata": {},
   "source": [
    "## Introduction\n",
    "In this tutorial, we will be analyzing the performance of our FEA code. We will begin by generating a 2D mesh of a rectangle, applying initial conditions such as element type and boundaries, and finally comparing it to an analytically calculated solution.\n",
    "\n",
    "We begin by importing all the necessary functions and their supporter functions.\n",
    "We create functions which will help populate the computational imports and create a second python cell with all element initial conditions. \n",
    "\n",
    "To set up this example problem, lets take into consideration the construction of a stoplight, where we are focused on just the horizontal portion of the beam. Lets image this beam is fixed on the left hand side where it meets the vertical beam connected to the ground. This stoplight will then experience a heavy downward load as if a flock of very heavy birds decided to nest on it temporarily. Lets begin by defining our functions and implementing this example."
   ]
  },
  {
   "cell_type": "code",
   "execution_count": 1,
   "metadata": {},
   "outputs": [],
   "source": [
    "from finiteelementanalysis import pre_process as pre\n",
    "from finiteelementanalysis import pre_process_demo_helper_fcns as pre_demo\n",
    "from finiteelementanalysis import solver_demo_helper_functions as solver_demo\n",
    "from finiteelementanalysis.solver import hyperelastic_solver\n",
    "from finiteelementanalysis import visualize as viz\n",
    "import numpy as np\n",
    "\n",
    "def define_sample_problem_geom(ele_type, nx, ny, L, H):\n",
    "    coords, connect = pre.generate_rect_mesh_2d(ele_type, 0.0, 0.0, L, H, nx, ny)\n",
    "    return coords, connect\n",
    "\n",
    "def define_sample_problem_info(ele_type, coords, connect, L, H):\n",
    "    # Identify boundaries\n",
    "    boundary_nodes, boundary_edges = pre.identify_rect_boundaries(coords, connect, ele_type, 0.0, L, 0.0, H)\n",
    "\n",
    "    # Fixed nodes on the left edge\n",
    "    fixed_nodes = pre.assign_fixed_nodes_rect(boundary_nodes, \"left\", 0.0, 0.0)\n",
    "\n",
    "    # Assign distributed load on the right boundary\n",
    "    q = -0.20\n",
    "    dload_info = pre.assign_uniform_load_rect(boundary_edges, \"top\", 0.0, q)\n",
    "\n",
    "    # Assign material properties\n",
    "    E = 167800.0\n",
    "    nu = 0.6666666666666667\n",
    "    mu = E / (2.0 * (1.0 + nu))\n",
    "    kappa = E / (3.0 * (1.0 - 2.0 * nu))\n",
    "    \n",
    "    material_props = np.array([mu, kappa])\n",
    "    # Assign artificial displacement field\n",
    "    displacement = np.zeros((coords.shape))\n",
    "    for kk in range(0, coords.shape[0]):\n",
    "        displacement[kk, 0] = coords[kk, 0] * 0.01\n",
    "    return displacement, material_props, fixed_nodes, dload_info\n",
    "\n",
    "\n"
   ]
  },
  {
   "cell_type": "markdown",
   "metadata": {},
   "source": [
    "## Element Properties\n",
    "In this next cell, we start defining our element type and our physical properties. When choosing from an element type, our options range from 1D to 2D and either tri or quad elements. You may find more information under discretization.py in the src folder. \n",
    "\n",
    "Once initialization is complete, we can pass this information to our created functions in the previous code cell. This will pre-generate a rectangular mesh, assign boundaries to this shape, and apply a load to a designated location. In our case as mentioned before, fixed on the left, and load applied from the top."
   ]
  },
  {
   "cell_type": "code",
   "execution_count": 2,
   "metadata": {},
   "outputs": [],
   "source": [
    "ele_type = \"D2_nn4_quad\"\n",
    "nx = 100\n",
    "ny = 8\n",
    "L = 387\n",
    "H = 10.0\n",
    "\n",
    "# Generate mesh and plot it\n",
    "coords, connect = define_sample_problem_geom(ele_type, nx, ny, L, H)\n",
    "displacement, material_props, fixed_nodes, dload_info = define_sample_problem_info(ele_type, coords, connect, L, H)\n",
    "\n",
    "fname = \"GeneratedMeshImage.png\"\n",
    "pre_demo.plot_mesh_2D(fname, ele_type, coords, connect)\n"
   ]
  },
  {
   "cell_type": "markdown",
   "metadata": {},
   "source": [
    "## Duration in Calculation\n",
    "We may now test our code by create our stiffness matrix and analyzing how quickly we are able to solve it by utilizing either the dense method, or the sparse method. Since our stiffness matrix contains several hundred zeros in certain rows and columns, the sparse solver breaks down the matrix into just the usable data and essentially ignores the zeros, allowing our code to run more efficiently. Let us analyze this by running the code snippet below. We should expect the sparse matrix solver to be several magnitudes quicker than our dense solver. The more complex our elements and problem formulations become, the more efficient this sparse solver is."
   ]
  },
  {
   "cell_type": "code",
   "execution_count": 3,
   "metadata": {},
   "outputs": [
    {
     "name": "stdout",
     "output_type": "stream",
     "text": [
      "average time dense matrix solve: 0.07346773999997822 seconds\n",
      "average time sparse matrix solve: 0.0026104000000486847 seconds\n"
     ]
    }
   ],
   "source": [
    "# Testing a \"dense\" solver by putting together the stiffness matrix\n",
    "K, R = solver_demo.prep_for_matrix_solve(ele_type, coords.T, connect.T, material_props, displacement.T, fixed_nodes, dload_info)\n",
    "method = \"dense\"\n",
    "num_runs = 5\n",
    "avg_time_dense_solve = solver_demo.time_one_matrix_solve(K, R, method, num_runs)\n",
    "print(\"average time dense matrix solve:\", avg_time_dense_solve, \"seconds\")\n",
    "\n",
    "# Sparse solver\n",
    "method = \"sparse\"\n",
    "num_runs = 10\n",
    "avg_time_sparse_solve = solver_demo.time_one_matrix_solve(K, R, method, num_runs)\n",
    "print(\"average time sparse matrix solve:\", avg_time_sparse_solve, \"seconds\")"
   ]
  },
  {
   "cell_type": "markdown",
   "metadata": {},
   "source": [
    "## Solution\n",
    "Finally, let us put all of this together and pass our information to the hyperelastic solver function which will create a gif of our structure deformation. This gif may be found in the same directory as this tutorial file."
   ]
  },
  {
   "cell_type": "code",
   "execution_count": 4,
   "metadata": {},
   "outputs": [],
   "source": [
    "# run the example to look at the results\n",
    "\n",
    "nr_num_steps = 15\n",
    "nr_print = False\n",
    "\n",
    "displacements_all, nr_info_all = hyperelastic_solver(\n",
    "    material_props, \n",
    "    ele_type, \n",
    "    coords.T, \n",
    "    connect.T, \n",
    "    fixed_nodes, \n",
    "    dload_info, \n",
    "    nr_print, \n",
    "    nr_num_steps, \n",
    "    nr_tol=1e-9, \n",
    "    nr_maxit=30)\n",
    "\n",
    "fname = \"displacement.gif\"\n",
    "viz.make_deformation_gif(displacements_all, coords, connect, ele_type, fname)"
   ]
  },
  {
   "cell_type": "markdown",
   "metadata": {},
   "source": [
    "## Answer Confirmation\n",
    "It is necessary for us to compare our computed solution to an analytical one to ensure accuracy of our code. Our stoplight may be modeled as a beam with the weight of the birds applied uniformly along the entire length. We then choose a the edge of our stoplight beam which is NOT fixed, and compare this computed displacement to the mathematical one."
   ]
  },
  {
   "cell_type": "code",
   "execution_count": 5,
   "metadata": {},
   "outputs": [
    {
     "name": "stdout",
     "output_type": "stream",
     "text": [
      "Tip node index: 504, coordinates=[387.   5.]\n",
      "Computed tip deflection (y): -22.713743\n",
      "Analytical Euler-Bernoulli deflection: -22.279254\n",
      "Error between computed vs analytical: 0.434489\n"
     ]
    }
   ],
   "source": [
    "final_disp = displacements_all[-1]  # shape: (n_nodes*ndof,)\n",
    "\n",
    "E = 167800.0\n",
    "nu = 0.6666666666666667\n",
    "L = 387\n",
    "H = 10.0\n",
    "# We need to pick a node near the end of the beam and half of the height\n",
    "tip_node = 0\n",
    "for i, (x, y) in enumerate(coords):\n",
    "    if abs(x - L) < 1e-6 and abs(y - H/2) < H/(2*ny):\n",
    "        tip_node = i\n",
    "        break\n",
    "\n",
    "tip_disp_y = final_disp[tip_node * 2 + 1]\n",
    "\n",
    "# Compare with the analytical solution\n",
    "q = -0.2\n",
    "E_eff = E / (1 - nu ** 2.0)\n",
    "I = H ** 3 / 12.0\n",
    "w_analytical = q * L ** 4 / (8.0 * E_eff * I)\n",
    "\n",
    "print(f\"Tip node index: {tip_node}, coordinates={coords[tip_node]}\")\n",
    "print(f\"Computed tip deflection (y): {tip_disp_y:.6f}\")\n",
    "print(f\"Analytical Euler-Bernoulli deflection: {w_analytical:.6f}\")\n",
    "\n",
    "print(f\"Error between computed vs analytical: {abs(tip_disp_y - w_analytical):.6f}\")\n",
    "\n",
    "\n",
    "\n"
   ]
  },
  {
   "cell_type": "code",
   "execution_count": null,
   "metadata": {},
   "outputs": [
    {
     "name": "stderr",
     "output_type": "stream",
     "text": [
      "c:\\Users\\Kote\\Miniconda\\envs\\finite-element-analysis-env\\Lib\\site-packages\\numpy\\linalg\\linalg.py:2180: RuntimeWarning: invalid value encountered in det\n",
      "  r = _umath_linalg.det(a, signature=signature)\n",
      "C:\\Users\\Kote\\AppData\\Local\\Temp\\ipykernel_26556\\2503785577.py:57: UserWarning: FigureCanvasAgg is non-interactive, and thus cannot be shown\n",
      "  plt.show()\n"
     ]
    }
   ],
   "source": [
    "import matplotlib.pyplot as plt  \n",
    "mesh_sizes = []\n",
    "errors = []\n",
    "\n",
    "# different mesh sizes to loop over\n",
    "for nx, ny in [(5, 1), (10, 2), (20, 2), (30, 2), (40, 2), (40, 4), (40, 6), (50, 6), (60, 6), (60, 8), (80, 8), (100, 10)]:\n",
    "\n",
    "    coords, connect = define_sample_problem_geom(ele_type, nx, ny, L, H)\n",
    "    displacement, material_props, fixed_nodes, dload_info = define_sample_problem_info(ele_type, coords, connect, L, H)\n",
    "\n",
    "    # solver\n",
    "    displacements_all, _ = hyperelastic_solver(\n",
    "        material_props, \n",
    "        ele_type, \n",
    "        coords.T, \n",
    "        connect.T, \n",
    "        fixed_nodes, \n",
    "        dload_info, \n",
    "        nr_print, \n",
    "        nr_num_steps, \n",
    "        nr_tol=1e-9, \n",
    "        nr_maxit=30)\n",
    "\n",
    "    final_disp = displacements_all[-1]  # shape: (n_nodes*ndof,)\n",
    "\n",
    "    # node tip and displacement\n",
    "    tip_node = 0\n",
    "    for i, (x, y) in enumerate(coords):\n",
    "        if abs(x - L) < 1e-6 and abs(y - H/2) < H/(2*ny):\n",
    "            tip_node = i\n",
    "            break\n",
    "\n",
    "    tip_disp_y = final_disp[tip_node * 2 + 1]\n",
    "\n",
    "    # Analytical solution\n",
    "    q = -0.2\n",
    "    E_eff = E / (1 - nu ** 2.0)\n",
    "    I = H ** 3 / 12.0\n",
    "    w_analytical = q * L ** 4 / (8.0 * E_eff * I)\n",
    "\n",
    "    # Error\n",
    "    error = abs(tip_disp_y - w_analytical)\n",
    "\n",
    "    # Storing mesh for plot\n",
    "    mesh_sizes.append(nx * ny)\n",
    "    errors.append(error)\n",
    "\n",
    "# Creating a plot and saving\n",
    "plt.figure()\n",
    "plt.loglog(mesh_sizes, errors, marker='o', label=\"Error vs Mesh Size\")\n",
    "plt.xlabel(\"Mesh Size\")\n",
    "plt.ylabel(\"Error\")\n",
    "plt.title(\"Convergence to Analytical Solution\")\n",
    "plt.grid(True, which=\"both\", linestyle=\"--\", linewidth=0.5)\n",
    "plt.legend()\n",
    "plt.savefig(\"convergence_plot.png\")\n"
   ]
  },
  {
   "cell_type": "code",
   "execution_count": null,
   "metadata": {},
   "outputs": [
    {
     "name": "stderr",
     "output_type": "stream",
     "text": [
      "C:\\Users\\Kote\\AppData\\Local\\Temp\\ipykernel_26556\\840894952.py:61: UserWarning: FigureCanvasAgg is non-interactive, and thus cannot be shown\n",
      "  plt.show()\n"
     ]
    }
   ],
   "source": [
    "import matplotlib.pyplot as plt  \n",
    "mesh_sizes = []\n",
    "errors = []\n",
    "ele_type = \"D2_nn8_quad\"\n",
    "nr_num_steps = 15\n",
    "nr_print = False\n",
    "\n",
    "\n",
    "# different mesh sizes to loop over. Very small changes from previous element type\n",
    "for nx, ny in [(6, 2), (10, 2), (20, 2), (30, 2), (40, 2), (40, 4), (40, 6), (50, 6), (60, 6), (60, 8), (80, 8)]:\n",
    "    \n",
    "    coords, connect = define_sample_problem_geom(ele_type, nx, ny, L, H)\n",
    "    displacement, material_props, fixed_nodes, dload_info = define_sample_problem_info(ele_type, coords, connect, L, H)\n",
    "\n",
    "    # solver\n",
    "    displacements_all, _ = hyperelastic_solver(\n",
    "        material_props, \n",
    "        ele_type, \n",
    "        coords.T, \n",
    "        connect.T, \n",
    "        fixed_nodes, \n",
    "        dload_info, \n",
    "        nr_print, \n",
    "        nr_num_steps, \n",
    "        nr_tol=1e-9, \n",
    "        nr_maxit=30)\n",
    "\n",
    "    final_disp = displacements_all[-1]  # shape: (n_nodes*ndof,)\n",
    "\n",
    "    # node tip and displacement\n",
    "    tip_node = 0\n",
    "    for i, (x, y) in enumerate(coords):\n",
    "        if abs(x - L) < 1e-6 and abs(y - H/2) < H/(2*ny):\n",
    "            tip_node = i\n",
    "            break\n",
    "\n",
    "    tip_disp_y = final_disp[tip_node * 2 + 1]\n",
    "\n",
    "    # Analytical solution as before\n",
    "    q = -0.2\n",
    "    E_eff = E / (1 - nu ** 2.0)\n",
    "    I = H ** 3 / 12.0\n",
    "    w_analytical = q * L ** 4 / (8.0 * E_eff * I)\n",
    "\n",
    "    # error computation\n",
    "    error = abs(tip_disp_y - w_analytical)\n",
    "\n",
    "    # storing mesh size and error for the plot\n",
    "    mesh_sizes.append(nx * ny)\n",
    "    errors.append(error)\n",
    "\n",
    "# Plotting again\n",
    "plt.figure()\n",
    "plt.loglog(mesh_sizes, errors, marker='o', label=\"Error vs Mesh Size\")\n",
    "plt.xlabel(\"Mesh Size (Number of Elements)\")\n",
    "plt.ylabel(\"Error (|Computed - Analytical|)\")\n",
    "plt.title(\"Convergence to Analytical Solution\")\n",
    "plt.grid(True, which=\"both\", linestyle=\"--\", linewidth=0.5)\n",
    "plt.legend()\n",
    "plt.savefig(\"convergence_plot_new_ele.png\")\n"
   ]
  },
  {
   "cell_type": "markdown",
   "metadata": {},
   "source": [
    "## Final Analysis\n",
    "We see the calcualtions right above that show us the difference between the computed deflection of the stoplight vs the analytically calculated deflection. The \"large\" difference may be attributed to the \"large\" load that we applied. With the stoplight showing very obvious signs of bending and displacement, the materials would not be sufficient in maintaining integrity against the weight of the heavy birds as proposed in this example."
   ]
  }
 ],
 "metadata": {
  "kernelspec": {
   "display_name": "finite-element-analysis-env",
   "language": "python",
   "name": "python3"
  },
  "language_info": {
   "codemirror_mode": {
    "name": "ipython",
    "version": 3
   },
   "file_extension": ".py",
   "mimetype": "text/x-python",
   "name": "python",
   "nbconvert_exporter": "python",
   "pygments_lexer": "ipython3",
   "version": "3.12.9"
  }
 },
 "nbformat": 4,
 "nbformat_minor": 2
}
