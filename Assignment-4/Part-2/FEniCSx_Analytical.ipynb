{
 "cells": [
  {
   "attachments": {},
   "cell_type": "markdown",
   "metadata": {},
   "source": [
    "# FEniCSx H and P Tutorial\n",
    "\n",
    "In this tutorial, we will be continuing our FEniCSx Bridge example from part 1, except this time we will be fully incoprorating the 3rd dimension and make our bridge a 3D structure. Last time, our bridge had a force applied to it at a single point at the center of the beam but in the Y direction. This time, we added depth and will be applying a downward force in the Z-axis. Before getting into the problem, please ensure that FEniCSx and DolfinX are installed on your computer. For assistance with installation, please refer to the `readme.md` for tips on installing the platform, creating a conda environment, activating it (also in your terminal/visual studio session), and running the Jupyter Notebook."
   ]
  },
  {
   "attachments": {},
   "cell_type": "markdown",
   "metadata": {},
   "source": [
    "## Library Imports\n",
    "\n",
    "To ensure that FEniCSx runs properly, please run each Jupyter notebook cell in order. If you run any cells ahead of others, the code might error out. First and foremost, we call our imports, the main ones being Numpy, DolfinX, UFL. \n",
    "\n",
    "Here:\n",
    "\n",
    "- Numpy:        Standard import which is for computations and arrays\n",
    "- DolfinX:      Core FEniCSx library for FEA\n",
    "- UFL:          Domain-specific language usedfor FEA\n"
   ]
  },
  {
   "cell_type": "code",
   "execution_count": 1,
   "metadata": {},
   "outputs": [],
   "source": [
    "from dolfinx import mesh, fem, log, plot, default_scalar_type\n",
    "from dolfinx.fem.petsc import LinearProblem\n",
    "from dolfinx.nls.petsc import NewtonSolver\n",
    "from dolfinx import geometry\n",
    "from mpi4py import MPI\n",
    "import matplotlib.pyplot as plt\n",
    "import numpy as np\n",
    "import ufl"
   ]
  },
  {
   "attachments": {},
   "cell_type": "markdown",
   "metadata": {},
   "source": [
    "## Simple Bridge Problem Setup\n",
    "\n",
    "Next we need to initialize our problem variables. As discussed before, we are setting up a 3 dimensional bridge, fixed on both ends, and simulating a downward force right along the beam. Differing from part 1, we are no longer applying a force as a point right in the middle of the bridge, instead we are applying a uniform load across the whole bridge.\n",
    "\n",
    "The steps for this problem will look like this:\n",
    "1) Define mesh\n",
    "2) Create the domain space (label the edges)\n",
    "3) Define material properties"
   ]
  },
  {
   "cell_type": "code",
   "execution_count": 2,
   "metadata": {},
   "outputs": [],
   "source": [
    "# Bridge dimensions\n",
    "L, W, H = 10.0, 1.0, 0.5  # Length, width, height\n",
    "num_elements = [50, 20, 20]  # Mesh resolution \n",
    "\n",
    "# Create a 3D bridge mesh\n",
    "domain = mesh.create_box(MPI.COMM_WORLD, [[0.0, 0.0, 0.0], [L, W, H]], num_elements, mesh.CellType.hexahedron)\n",
    "V = fem.functionspace(domain, (\"Lagrange\", 1, (domain.geometry.dim, )))\n",
    "dim = domain.topology.dim\n",
    "\n",
    "# Material properties for bridge\n",
    "rho = 800  # Density \n",
    "E = fem.Constant(domain, 2.1e11)  \n",
    "nu = fem.Constant(domain, 0.3)\n",
    "mu = (E / (2 * (1 + nu)))\n",
    "lmbda = (E * nu / ((1 + nu) * (1 - 2 * nu)))\n"
   ]
  },
  {
   "attachments": {},
   "cell_type": "markdown",
   "metadata": {},
   "source": [
    "## Defining Functions\n",
    "\n",
    "This section, like previously, is where we call FEniCSx and define our trial and test functions. We also add other variables specifically because we are dealing with a 3 dimensional bridge and a uniform force pushing downwards."
   ]
  },
  {
   "cell_type": "code",
   "execution_count": 3,
   "metadata": {},
   "outputs": [],
   "source": [
    "# Define the weak form\n",
    "u = ufl.TrialFunction(V)  # Displacement as a vector field\n",
    "v = ufl.TestFunction(V)  # Test function\n",
    "solution = fem.Function(V)  # Solution vector\n",
    "\n",
    "def epsilon(v):\n",
    "    return ufl.sym(ufl.grad(v))\n",
    "\n",
    "\n",
    "def sigma(v):\n",
    "    return lmbda * ufl.tr(epsilon(v)) * ufl.Identity(dim) + 2 * mu * epsilon(v)"
   ]
  },
  {
   "attachments": {},
   "cell_type": "markdown",
   "metadata": {},
   "source": [
    "## Boundary Conditions\n",
    "\n",
    "Simple boundary condition application, defining left and right boundaries of the beam. Left boundary conditions are at 0,0. Right boundary conditions are the length of the beam."
   ]
  },
  {
   "cell_type": "code",
   "execution_count": 4,
   "metadata": {},
   "outputs": [],
   "source": [
    "# Boundary conditions: Fix both ends of the bridge\n",
    "def left_end(x):\n",
    "    return np.isclose(x[0], 0.0)\n",
    "\n",
    "def right_end(x):\n",
    "    return np.isclose(x[0], L)\n",
    "\n",
    "\n",
    "left_dofs = fem.locate_dofs_geometrical(V, left_end)\n",
    "right_dofs = fem.locate_dofs_geometrical(V, right_end)\n",
    "zero_displacement = np.array([0.0, 0.0, 0.0], dtype=default_scalar_type)\n",
    "bcs = [fem.dirichletbc(zero_displacement, left_dofs, V),\n",
    "       fem.dirichletbc(zero_displacement, right_dofs, V)]"
   ]
  },
  {
   "attachments": {},
   "cell_type": "markdown",
   "metadata": {},
   "source": [
    "## Force Application\n",
    "\n",
    "Next we define our exernal load for our beam, using a uniform constant downward Z force. "
   ]
  },
  {
   "cell_type": "code",
   "execution_count": 5,
   "metadata": {},
   "outputs": [],
   "source": [
    "# External force: Vertical force applied uniformly\n",
    "q = fem.Constant(domain, default_scalar_type((0.0, 0.0, -1e4)))  # Force in the negative z-direction\n",
    "dx = ufl.Measure(\"dx\", domain=domain)\n",
    "a = ufl.inner(sigma(u), epsilon(v)) * dx\n",
    "L_form = ufl.inner(q, v) * dx"
   ]
  },
  {
   "attachments": {},
   "cell_type": "markdown",
   "metadata": {},
   "source": [
    "## Solver Initialization\n",
    "\n",
    "We now initialize our solver using a linear solver. This approach is valid for linear problems or problems that can be approximated as linear."
   ]
  },
  {
   "cell_type": "code",
   "execution_count": null,
   "metadata": {},
   "outputs": [
    {
     "data": {
      "text/plain": [
       "Coefficient(FunctionSpace(Mesh(blocked element (Basix element (P, hexahedron, 1, gll_warped, unset, False, float64, []), (3,)), 0), blocked element (Basix element (P, hexahedron, 1, gll_warped, unset, False, float64, []), (3,))), 0)"
      ]
     },
     "execution_count": 6,
     "metadata": {},
     "output_type": "execute_result"
    }
   ],
   "source": [
    "# Solver setup using a linear solver\n",
    "problem = LinearProblem(a, L_form, bcs=bcs, u=solution)\n",
    "\n",
    "def Monitor(problem, step):\n",
    "    if step == 0:\n",
    "        log.info(\"Initial residual: %s\", problem.residual.norm())\n",
    "    else:\n",
    "        log.info(\"Residual at step %d: %s\", step, problem.residual.norm())\n",
    "\n",
    "problem.solver.setMonitor(Monitor)\n",
    "\n",
    "problem.solve()"
   ]
  },
  {
   "attachments": {},
   "cell_type": "markdown",
   "metadata": {},
   "source": [
    "## Visualization\n",
    "\n",
    "For visualization, we first create a grid of the mesh, then plot the mesh. Note that we are not using the standard pyplot functions. FEniCSx works incredibly well when using the pyvista library, as it specializes in vector and array plotting, handling 3-dimensional simulations with ease."
   ]
  },
  {
   "attachments": {},
   "cell_type": "markdown",
   "metadata": {},
   "source": [
    "## Time Steps\n",
    "\n",
    "Finally, because we are working with a non-linear problem, we need to take into account how accelaration and velocity changes based on what time step we are on. Usually for linear problems, it would be a constant application, but this is where we utilize Fenicsx to its fullest and show how it can solve complex computations. "
   ]
  },
  {
   "cell_type": "code",
   "execution_count": 7,
   "metadata": {},
   "outputs": [
    {
     "name": "stdout",
     "output_type": "stream",
     "text": [
      "Error: 0.0005388184893877536\n"
     ]
    },
    {
     "data": {
      "image/png": "[encoded data removed]",
      "text/plain": [
       "<Figure size 640x480 with 1 Axes>"
      ]
     },
     "metadata": {},
     "output_type": "display_data"
    }
   ],
   "source": [
    "# Define the moment of inertia for the beam's cross-section\n",
    "Inertia = W * H**3 / 12  # Assuming a rectangular cross-section\n",
    "\n",
    "# Bounding box tree for collision detection\n",
    "bb_tree = geometry.bb_tree(domain, domain.topology.dim)\n",
    "\n",
    "# Define points along the beam's length for displacement evaluation\n",
    "x = np.linspace(0, L, 100)\n",
    "points = np.zeros((3, 100))\n",
    "points[0] = x\n",
    "points[1] = W / 2  # Mid-width of the beam\n",
    "points[2] = H / 2  # Mid-height of the beam\n",
    "\n",
    "cells = []\n",
    "points_on_proc = []\n",
    "u_values = []\n",
    "\n",
    "# Find cells containing the points\n",
    "cell_candidates = geometry.compute_collisions_points(bb_tree, points.T)\n",
    "colliding_cells = geometry.compute_colliding_cells(domain, cell_candidates, points.T)\n",
    "for i, point in enumerate(points.T):\n",
    "    if len(colliding_cells.links(i)) > 0:\n",
    "        points_on_proc.append(point)\n",
    "        cells.append(colliding_cells.links(i)[0])\n",
    "\n",
    "points_on_proc = np.array(points_on_proc, dtype=np.float64)\n",
    "u_values = solution.eval(points_on_proc, cells)\n",
    "\n",
    "# Plot FEA results\n",
    "fig = plt.figure()\n",
    "plt.plot(points_on_proc[:, 0], u_values[:, 2], \"k\", linewidth=2, label=\"FEA\")  # Z-displacement\n",
    "plt.grid(True)\n",
    "\n",
    "# Define the analytic solution for comparison\n",
    "u_analytic = lambda x: (q.value[2] / (24 * E.value * Inertia)) * (x**4 - 2 * L * x**3 + L**3 * x)\n",
    "x_analytic = np.linspace(0, L, 100)\n",
    "u_analytic_values = u_analytic(x_analytic)\n",
    "\n",
    "# Compute and save the error\n",
    "error = np.max(np.abs(u_values[:, 2] - u_analytic_values))\n",
    "print(f\"Error: {error}\")\n",
    "\n",
    "# Plot analytic solution\n",
    "plt.plot(x_analytic, u_analytic_values, \"r\", linewidth=2, label=\"Analytic\")\n",
    "plt.grid(True)\n",
    "plt.xlabel(\"x\")\n",
    "plt.ylabel(\"Displacement (Z)\")\n",
    "plt.legend()\n",
    "output_png = \"Computed_vs_Analytic_Error.png\"\n",
    "plt.savefig(output_png)"
   ]
  },
  {
   "attachments": {},
   "cell_type": "markdown",
   "metadata": {},
   "source": [
    "## Results\n",
    "\n",
    "We have a saved `bridge_dynamics_h_mesh.gif` file saved in the same directory. This shows us the deformation that occurs on our bridge when we apply a force in the downward Z direction. In comparison to part 1, we see how our structure now deforms downward as opposed to \"out of the screen\" in the Y direction."
   ]
  }
 ],
 "metadata": {
  "kernelspec": {
   "display_name": "fenicsx-env",
   "language": "python",
   "name": "python3"
  },
  "language_info": {
   "codemirror_mode": {
    "name": "ipython",
    "version": 3
   },
   "file_extension": ".py",
   "mimetype": "text/x-python",
   "name": "python",
   "nbconvert_exporter": "python",
   "pygments_lexer": "ipython3",
   "version": "3.13.2"
  },
  "orig_nbformat": 4
 },
 "nbformat": 4,
 "nbformat_minor": 2
}
