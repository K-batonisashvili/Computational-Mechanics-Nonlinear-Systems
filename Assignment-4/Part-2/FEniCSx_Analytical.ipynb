{
 "cells": [
  {
   "attachments": {},
   "cell_type": "markdown",
   "metadata": {},
   "source": [
    "# FEniCSx H and P Tutorial\n",
    "\n",
    "In this tutorial, we will be continuing our FEniCSx Bridge example from part 1, except this time we will be fully incoprorating the 3rd dimension and make our bridge a 3D structure. Last time, our bridge had a force applied to it at a single point at the center of the beam but in the Y direction. This time, we added depth and will be applying a downward force in the Z-axis. Before getting into the problem, please ensure that FEniCSx and DolfinX are installed on your computer. For assistance with installation, please refer to the `readme.md` for tips on installing the platform, creating a conda environment, activating it (also in your terminal/visual studio session), and running the Jupyter Notebook."
   ]
  },
  {
   "attachments": {},
   "cell_type": "markdown",
   "metadata": {},
   "source": [
    "## Library Imports\n",
    "\n",
    "To ensure that FEniCSx runs properly, please run each Jupyter notebook cell in order. If you run any cells ahead of others, the code might error out. First and foremost, we call our imports, the main ones being Numpy, DolfinX, UFL. \n",
    "\n",
    "Here:\n",
    "\n",
    "- Numpy:        Standard import which is for computations and arrays\n",
    "- DolfinX:      Core FEniCSx library for FEA\n",
    "- UFL:          Domain-specific language usedfor FEA\n"
   ]
  },
  {
   "cell_type": "code",
   "execution_count": 1,
   "metadata": {},
   "outputs": [],
   "source": [
    "from dolfinx import mesh, fem, log, plot, default_scalar_type\n",
    "from dolfinx.fem.petsc import LinearProblem\n",
    "from dolfinx.nls.petsc import NewtonSolver\n",
    "from dolfinx import geometry\n",
    "from mpi4py import MPI\n",
    "import matplotlib.pyplot as plt\n",
    "import numpy as np\n",
    "import ufl"
   ]
  },
  {
   "attachments": {},
   "cell_type": "markdown",
   "metadata": {},
   "source": [
    "## Simple Bridge Problem Setup\n",
    "\n",
    "Next we need to initialize our problem variables. As discussed before, we are setting up a 3 dimensional bridge, fixed on both ends, and simulating a downward force right along the beam. Differing from part 1, we are no longer applying a force as a point right in the middle of the bridge, instead we are applying a uniform load across the whole bridge.\n",
    "\n",
    "The steps for this problem will look like this:\n",
    "1) Define mesh\n",
    "2) Create the domain space (label the edges)\n",
    "3) Define material properties"
   ]
  },
  {
   "cell_type": "code",
   "execution_count": null,
   "metadata": {},
   "outputs": [],
   "source": [
    "# Bridge dimensions\n",
    "L, W, H = 10.0, 1.0, 0.5  # Length, width, height\n",
    "num_elements = [50, 5, 5]  # Mesh resolution \n",
    "\n",
    "# Create a 3D bridge mesh\n",
    "domain = mesh.create_box(MPI.COMM_WORLD, [[0.0, 0.0, 0.0], [L, W, H]], num_elements, mesh.CellType.hexahedron)\n",
    "V = fem.functionspace(domain, (\"Lagrange\", 1, (domain.geometry.dim, )))\n",
    "dim = domain.topology.dim\n",
    "\n",
    "# Material properties for bridge\n",
    "rho = 800  # Density \n",
    "E = fem.Constant(domain, 2.1e11)  \n",
    "nu = fem.Constant(domain, 0.3)\n",
    "mu = (E / (2 * (1 + nu)))\n",
    "lmbda = (E * nu / ((1 + nu) * (1 - 2 * nu)))\n"
   ]
  },
  {
   "attachments": {},
   "cell_type": "markdown",
   "metadata": {},
   "source": [
    "## Defining Functions\n",
    "\n",
    "This section, like previously, is where we call FEniCSx and define our trial and test functions. We also add other variables specifically because we are dealing with a 3 dimensional bridge and a uniform force pushing downwards."
   ]
  },
  {
   "cell_type": "code",
   "execution_count": null,
   "metadata": {},
   "outputs": [],
   "source": [
    "# Define the weak form\n",
    "u = ufl.TrialFunction(V)  # Displacement as a vector field\n",
    "v = ufl.TestFunction(V)  # Test function\n",
    "solution = fem.Function(V)  # Solution vector\n",
    "\n",
    "def epsilon(v):\n",
    "    return ufl.sym(ufl.grad(v))\n",
    "\n",
    "\n",
    "def sigma(v):\n",
    "    return lmbda * ufl.tr(epsilon(v)) * ufl.Identity(dim) + 2 * mu * epsilon(v)"
   ]
  },
  {
   "attachments": {},
   "cell_type": "markdown",
   "metadata": {},
   "source": [
    "## Boundary Conditions\n",
    "\n",
    "Simple boundary condition application, defining left and right boundaries of the beam. Left boundary conditions are at 0,0. Right boundary conditions are the length of the beam."
   ]
  },
  {
   "cell_type": "code",
   "execution_count": 5,
   "metadata": {},
   "outputs": [],
   "source": [
    "# Boundary conditions: Fix both ends of the bridge\n",
    "def left_end(x):\n",
    "    return np.isclose(x[0], 0.0)\n",
    "\n",
    "def right_end(x):\n",
    "    return np.isclose(x[0], L)\n",
    "\n",
    "\n",
    "left_dofs = fem.locate_dofs_geometrical(V, left_end)\n",
    "right_dofs = fem.locate_dofs_geometrical(V, right_end)\n",
    "zero_displacement = np.array([0.0, 0.0, 0.0], dtype=default_scalar_type)\n",
    "bcs = [fem.dirichletbc(zero_displacement, left_dofs, V),\n",
    "       fem.dirichletbc(zero_displacement, right_dofs, V)]"
   ]
  },
  {
   "attachments": {},
   "cell_type": "markdown",
   "metadata": {},
   "source": [
    "## Force Application\n",
    "\n",
    "Next we define our exernal load for our beam, using a uniform constant downward Z force. "
   ]
  },
  {
   "cell_type": "code",
   "execution_count": null,
   "metadata": {},
   "outputs": [],
   "source": [
    "# External force: Vertical force applied uniformly\n",
    "q = fem.Constant(domain, default_scalar_type((0.0, 0.0, -1e4)))  # Force in the negative z-direction\n",
    "dx = ufl.Measure(\"dx\", domain=domain)\n",
    "a = ufl.inner(sigma(u), epsilon(v)) * dx\n",
    "L = ufl.inner(q, v) * dx"
   ]
  },
  {
   "attachments": {},
   "cell_type": "markdown",
   "metadata": {},
   "source": [
    "## Solver Initialization\n",
    "\n",
    "We now initialize our solver using a linear solver. This approach is valid for linear problems or problems that can be approximated as linear."
   ]
  },
  {
   "cell_type": "code",
   "execution_count": null,
   "metadata": {},
   "outputs": [
    {
     "ename": "ValueError",
     "evalue": "not enough values to unpack (expected 2, got 1)",
     "output_type": "error",
     "traceback": [
      "\u001b[31m---------------------------------------------------------------------------\u001b[39m",
      "\u001b[31mValueError\u001b[39m                                Traceback (most recent call last)",
      "\u001b[36mCell\u001b[39m\u001b[36m \u001b[39m\u001b[32mIn[7]\u001b[39m\u001b[32m, line 2\u001b[39m\n\u001b[32m      1\u001b[39m \u001b[38;5;66;03m# Solver setup\u001b[39;00m\n\u001b[32m----> \u001b[39m\u001b[32m2\u001b[39m problem = \u001b[43mNonlinearProblem\u001b[49m\u001b[43m(\u001b[49m\u001b[43mF_form\u001b[49m\u001b[43m,\u001b[49m\u001b[43m \u001b[49m\u001b[43mu\u001b[49m\u001b[43m,\u001b[49m\u001b[43m \u001b[49m\u001b[43mbcs\u001b[49m\u001b[43m)\u001b[49m\n\u001b[32m      3\u001b[39m solver = NewtonSolver(domain.comm, problem)\n\u001b[32m      4\u001b[39m solver.atol = \u001b[32m1e-8\u001b[39m\n",
      "\u001b[36mFile \u001b[39m\u001b[32m/projectnb/me700/students/kbat6359/.conda/envs/fenicsx-env/lib/python3.13/site-packages/dolfinx/fem/petsc.py:922\u001b[39m, in \u001b[36mNonlinearProblem.__init__\u001b[39m\u001b[34m(self, F, u, bcs, J, form_compiler_options, jit_options)\u001b[39m\n\u001b[32m    894\u001b[39m \u001b[38;5;28;01mdef\u001b[39;00m\u001b[38;5;250m \u001b[39m\u001b[34m__init__\u001b[39m(\n\u001b[32m    895\u001b[39m     \u001b[38;5;28mself\u001b[39m,\n\u001b[32m    896\u001b[39m     F: ufl.form.Form,\n\u001b[32m   (...)\u001b[39m\u001b[32m    901\u001b[39m     jit_options: typing.Optional[\u001b[38;5;28mdict\u001b[39m] = \u001b[38;5;28;01mNone\u001b[39;00m,\n\u001b[32m    902\u001b[39m ):\n\u001b[32m    903\u001b[39m \u001b[38;5;250m    \u001b[39m\u001b[33;03m\"\"\"Initialize solver for solving a non-linear problem using Newton's method`.\u001b[39;00m\n\u001b[32m    904\u001b[39m \n\u001b[32m    905\u001b[39m \u001b[33;03m    Args:\u001b[39;00m\n\u001b[32m   (...)\u001b[39m\u001b[32m    920\u001b[39m \u001b[33;03m        problem = LinearProblem(F, u, [bc0, bc1])\u001b[39;00m\n\u001b[32m    921\u001b[39m \u001b[33;03m    \"\"\"\u001b[39;00m\n\u001b[32m--> \u001b[39m\u001b[32m922\u001b[39m     \u001b[38;5;28mself\u001b[39m._L = \u001b[43m_create_form\u001b[49m\u001b[43m(\u001b[49m\n\u001b[32m    923\u001b[39m \u001b[43m        \u001b[49m\u001b[43mF\u001b[49m\u001b[43m,\u001b[49m\u001b[43m \u001b[49m\u001b[43mform_compiler_options\u001b[49m\u001b[43m=\u001b[49m\u001b[43mform_compiler_options\u001b[49m\u001b[43m,\u001b[49m\u001b[43m \u001b[49m\u001b[43mjit_options\u001b[49m\u001b[43m=\u001b[49m\u001b[43mjit_options\u001b[49m\n\u001b[32m    924\u001b[39m \u001b[43m    \u001b[49m\u001b[43m)\u001b[49m\n\u001b[32m    926\u001b[39m     \u001b[38;5;66;03m# Create the Jacobian matrix, dF/du\u001b[39;00m\n\u001b[32m    927\u001b[39m     \u001b[38;5;28;01mif\u001b[39;00m J \u001b[38;5;129;01mis\u001b[39;00m \u001b[38;5;28;01mNone\u001b[39;00m:\n",
      "\u001b[36mFile \u001b[39m\u001b[32m/projectnb/me700/students/kbat6359/.conda/envs/fenicsx-env/lib/python3.13/site-packages/dolfinx/fem/forms.py:337\u001b[39m, in \u001b[36mform\u001b[39m\u001b[34m(form, dtype, form_compiler_options, jit_options, entity_maps)\u001b[39m\n\u001b[32m    334\u001b[39m     \u001b[38;5;28;01melse\u001b[39;00m:\n\u001b[32m    335\u001b[39m         \u001b[38;5;28;01mreturn\u001b[39;00m form\n\u001b[32m--> \u001b[39m\u001b[32m337\u001b[39m \u001b[38;5;28;01mreturn\u001b[39;00m \u001b[43m_create_form\u001b[49m\u001b[43m(\u001b[49m\u001b[43mform\u001b[49m\u001b[43m)\u001b[49m\n",
      "\u001b[36mFile \u001b[39m\u001b[32m/projectnb/me700/students/kbat6359/.conda/envs/fenicsx-env/lib/python3.13/site-packages/dolfinx/fem/forms.py:331\u001b[39m, in \u001b[36mform.<locals>._create_form\u001b[39m\u001b[34m(form)\u001b[39m\n\u001b[32m    329\u001b[39m         \u001b[38;5;28;01mreturn\u001b[39;00m \u001b[38;5;28;01mNone\u001b[39;00m\n\u001b[32m    330\u001b[39m     \u001b[38;5;28;01melse\u001b[39;00m:\n\u001b[32m--> \u001b[39m\u001b[32m331\u001b[39m         \u001b[38;5;28;01mreturn\u001b[39;00m \u001b[43m_form\u001b[49m\u001b[43m(\u001b[49m\u001b[43mform\u001b[49m\u001b[43m)\u001b[49m\n\u001b[32m    332\u001b[39m \u001b[38;5;28;01melif\u001b[39;00m \u001b[38;5;28misinstance\u001b[39m(form, collections.abc.Iterable):\n\u001b[32m    333\u001b[39m     \u001b[38;5;28;01mreturn\u001b[39;00m \u001b[38;5;28mlist\u001b[39m(\u001b[38;5;28mmap\u001b[39m(\u001b[38;5;28;01mlambda\u001b[39;00m sub_form: _create_form(sub_form), form))\n",
      "\u001b[36mFile \u001b[39m\u001b[32m/projectnb/me700/students/kbat6359/.conda/envs/fenicsx-env/lib/python3.13/site-packages/dolfinx/fem/forms.py:254\u001b[39m, in \u001b[36mform.<locals>._form\u001b[39m\u001b[34m(form)\u001b[39m\n\u001b[32m    252\u001b[39m \u001b[38;5;28;01mif\u001b[39;00m mesh \u001b[38;5;129;01mis\u001b[39;00m \u001b[38;5;28;01mNone\u001b[39;00m:\n\u001b[32m    253\u001b[39m     \u001b[38;5;28;01mraise\u001b[39;00m \u001b[38;5;167;01mRuntimeError\u001b[39;00m(\u001b[33m\"\u001b[39m\u001b[33mExpecting to find a Mesh in the form.\u001b[39m\u001b[33m\"\u001b[39m)\n\u001b[32m--> \u001b[39m\u001b[32m254\u001b[39m ufcx_form, module, code = \u001b[43mjit\u001b[49m\u001b[43m.\u001b[49m\u001b[43mffcx_jit\u001b[49m\u001b[43m(\u001b[49m\n\u001b[32m    255\u001b[39m \u001b[43m    \u001b[49m\u001b[43mmesh\u001b[49m\u001b[43m.\u001b[49m\u001b[43mcomm\u001b[49m\u001b[43m,\u001b[49m\u001b[43m \u001b[49m\u001b[43mform\u001b[49m\u001b[43m,\u001b[49m\u001b[43m \u001b[49m\u001b[43mform_compiler_options\u001b[49m\u001b[43m=\u001b[49m\u001b[43mform_compiler_options\u001b[49m\u001b[43m,\u001b[49m\u001b[43m \u001b[49m\u001b[43mjit_options\u001b[49m\u001b[43m=\u001b[49m\u001b[43mjit_options\u001b[49m\n\u001b[32m    256\u001b[39m \u001b[43m\u001b[49m\u001b[43m)\u001b[49m\n\u001b[32m    258\u001b[39m \u001b[38;5;66;03m# For each argument in form extract its function space\u001b[39;00m\n\u001b[32m    259\u001b[39m V = [arg.ufl_function_space()._cpp_object \u001b[38;5;28;01mfor\u001b[39;00m arg \u001b[38;5;129;01min\u001b[39;00m form.arguments()]\n",
      "\u001b[36mFile \u001b[39m\u001b[32m/projectnb/me700/students/kbat6359/.conda/envs/fenicsx-env/lib/python3.13/site-packages/dolfinx/jit.py:62\u001b[39m, in \u001b[36mmpi_jit_decorator.<locals>.mpi_jit\u001b[39m\u001b[34m(comm, *args, **kwargs)\u001b[39m\n\u001b[32m     58\u001b[39m \u001b[38;5;129m@functools\u001b[39m.wraps(local_jit)\n\u001b[32m     59\u001b[39m \u001b[38;5;28;01mdef\u001b[39;00m\u001b[38;5;250m \u001b[39m\u001b[34mmpi_jit\u001b[39m(comm, *args, **kwargs):\n\u001b[32m     60\u001b[39m     \u001b[38;5;66;03m# Just call JIT compiler when running in serial\u001b[39;00m\n\u001b[32m     61\u001b[39m     \u001b[38;5;28;01mif\u001b[39;00m comm.size == \u001b[32m1\u001b[39m:\n\u001b[32m---> \u001b[39m\u001b[32m62\u001b[39m         \u001b[38;5;28;01mreturn\u001b[39;00m \u001b[43mlocal_jit\u001b[49m\u001b[43m(\u001b[49m\u001b[43m*\u001b[49m\u001b[43margs\u001b[49m\u001b[43m,\u001b[49m\u001b[43m \u001b[49m\u001b[43m*\u001b[49m\u001b[43m*\u001b[49m\u001b[43mkwargs\u001b[49m\u001b[43m)\u001b[49m\n\u001b[32m     64\u001b[39m     \u001b[38;5;66;03m# Default status (0 == ok, 1 == fail)\u001b[39;00m\n\u001b[32m     65\u001b[39m     status = \u001b[32m0\u001b[39m\n",
      "\u001b[36mFile \u001b[39m\u001b[32m/projectnb/me700/students/kbat6359/.conda/envs/fenicsx-env/lib/python3.13/site-packages/dolfinx/jit.py:212\u001b[39m, in \u001b[36mffcx_jit\u001b[39m\u001b[34m(ufl_object, form_compiler_options, jit_options)\u001b[39m\n\u001b[32m    210\u001b[39m \u001b[38;5;66;03m# Switch on type and compile, returning cffi object\u001b[39;00m\n\u001b[32m    211\u001b[39m \u001b[38;5;28;01mif\u001b[39;00m \u001b[38;5;28misinstance\u001b[39m(ufl_object, ufl.Form):\n\u001b[32m--> \u001b[39m\u001b[32m212\u001b[39m     r = \u001b[43mffcx\u001b[49m\u001b[43m.\u001b[49m\u001b[43mcodegeneration\u001b[49m\u001b[43m.\u001b[49m\u001b[43mjit\u001b[49m\u001b[43m.\u001b[49m\u001b[43mcompile_forms\u001b[49m\u001b[43m(\u001b[49m\u001b[43m[\u001b[49m\u001b[43mufl_object\u001b[49m\u001b[43m]\u001b[49m\u001b[43m,\u001b[49m\u001b[43m \u001b[49m\u001b[43moptions\u001b[49m\u001b[43m=\u001b[49m\u001b[43mp_ffcx\u001b[49m\u001b[43m,\u001b[49m\u001b[43m \u001b[49m\u001b[43m*\u001b[49m\u001b[43m*\u001b[49m\u001b[43mp_jit\u001b[49m\u001b[43m)\u001b[49m\n\u001b[32m    213\u001b[39m \u001b[38;5;28;01melif\u001b[39;00m \u001b[38;5;28misinstance\u001b[39m(ufl_object, ufl.Mesh):\n\u001b[32m    214\u001b[39m     r = ffcx.codegeneration.jit.compile_coordinate_maps([ufl_object], options=p_ffcx, **p_jit)\n",
      "\u001b[36mFile \u001b[39m\u001b[32m/projectnb/me700/students/kbat6359/.conda/envs/fenicsx-env/lib/python3.13/site-packages/ffcx/codegeneration/jit.py:225\u001b[39m, in \u001b[36mcompile_forms\u001b[39m\u001b[34m(forms, options, cache_dir, timeout, cffi_extra_compile_args, cffi_verbose, cffi_debug, cffi_libraries, visualise)\u001b[39m\n\u001b[32m    223\u001b[39m     \u001b[38;5;28;01mexcept\u001b[39;00m \u001b[38;5;167;01mException\u001b[39;00m:\n\u001b[32m    224\u001b[39m         \u001b[38;5;28;01mpass\u001b[39;00m\n\u001b[32m--> \u001b[39m\u001b[32m225\u001b[39m     \u001b[38;5;28;01mraise\u001b[39;00m e\n\u001b[32m    227\u001b[39m obj, module = _load_objects(cache_dir, module_name, form_names)\n\u001b[32m    228\u001b[39m \u001b[38;5;28;01mreturn\u001b[39;00m obj, module, (decl, impl)\n",
      "\u001b[36mFile \u001b[39m\u001b[32m/projectnb/me700/students/kbat6359/.conda/envs/fenicsx-env/lib/python3.13/site-packages/ffcx/codegeneration/jit.py:205\u001b[39m, in \u001b[36mcompile_forms\u001b[39m\u001b[34m(forms, options, cache_dir, timeout, cffi_extra_compile_args, cffi_verbose, cffi_debug, cffi_libraries, visualise)\u001b[39m\n\u001b[32m    202\u001b[39m     \u001b[38;5;28;01mfor\u001b[39;00m name \u001b[38;5;129;01min\u001b[39;00m form_names:\n\u001b[32m    203\u001b[39m         decl += form_template.format(name=name)\n\u001b[32m--> \u001b[39m\u001b[32m205\u001b[39m     impl = \u001b[43m_compile_objects\u001b[49m\u001b[43m(\u001b[49m\n\u001b[32m    206\u001b[39m \u001b[43m        \u001b[49m\u001b[43mdecl\u001b[49m\u001b[43m,\u001b[49m\n\u001b[32m    207\u001b[39m \u001b[43m        \u001b[49m\u001b[43mforms\u001b[49m\u001b[43m,\u001b[49m\n\u001b[32m    208\u001b[39m \u001b[43m        \u001b[49m\u001b[43mform_names\u001b[49m\u001b[43m,\u001b[49m\n\u001b[32m    209\u001b[39m \u001b[43m        \u001b[49m\u001b[43mmodule_name\u001b[49m\u001b[43m,\u001b[49m\n\u001b[32m    210\u001b[39m \u001b[43m        \u001b[49m\u001b[43mp\u001b[49m\u001b[43m,\u001b[49m\n\u001b[32m    211\u001b[39m \u001b[43m        \u001b[49m\u001b[43mcache_dir\u001b[49m\u001b[43m,\u001b[49m\n\u001b[32m    212\u001b[39m \u001b[43m        \u001b[49m\u001b[43mcffi_extra_compile_args\u001b[49m\u001b[43m,\u001b[49m\n\u001b[32m    213\u001b[39m \u001b[43m        \u001b[49m\u001b[43mcffi_verbose\u001b[49m\u001b[43m,\u001b[49m\n\u001b[32m    214\u001b[39m \u001b[43m        \u001b[49m\u001b[43mcffi_debug\u001b[49m\u001b[43m,\u001b[49m\n\u001b[32m    215\u001b[39m \u001b[43m        \u001b[49m\u001b[43mcffi_libraries\u001b[49m\u001b[43m,\u001b[49m\n\u001b[32m    216\u001b[39m \u001b[43m        \u001b[49m\u001b[43mvisualise\u001b[49m\u001b[43m=\u001b[49m\u001b[43mvisualise\u001b[49m\u001b[43m,\u001b[49m\n\u001b[32m    217\u001b[39m \u001b[43m    \u001b[49m\u001b[43m)\u001b[49m\n\u001b[32m    218\u001b[39m \u001b[38;5;28;01mexcept\u001b[39;00m \u001b[38;5;167;01mException\u001b[39;00m \u001b[38;5;28;01mas\u001b[39;00m e:\n\u001b[32m    219\u001b[39m     \u001b[38;5;28;01mtry\u001b[39;00m:\n\u001b[32m    220\u001b[39m         \u001b[38;5;66;03m# remove c file so that it will not timeout next time\u001b[39;00m\n",
      "\u001b[36mFile \u001b[39m\u001b[32m/projectnb/me700/students/kbat6359/.conda/envs/fenicsx-env/lib/python3.13/site-packages/ffcx/codegeneration/jit.py:330\u001b[39m, in \u001b[36m_compile_objects\u001b[39m\u001b[34m(decl, ufl_objects, object_names, module_name, options, cache_dir, cffi_extra_compile_args, cffi_verbose, cffi_debug, cffi_libraries, visualise)\u001b[39m\n\u001b[32m    326\u001b[39m libraries = _libraries + cffi_libraries \u001b[38;5;28;01mif\u001b[39;00m cffi_libraries \u001b[38;5;129;01mis\u001b[39;00m \u001b[38;5;129;01mnot\u001b[39;00m \u001b[38;5;28;01mNone\u001b[39;00m \u001b[38;5;28;01melse\u001b[39;00m _libraries\n\u001b[32m    328\u001b[39m \u001b[38;5;66;03m# JIT uses module_name as prefix, which is needed to make names of all struct/function\u001b[39;00m\n\u001b[32m    329\u001b[39m \u001b[38;5;66;03m# unique across modules\u001b[39;00m\n\u001b[32m--> \u001b[39m\u001b[32m330\u001b[39m _, code_body = \u001b[43mffcx\u001b[49m\u001b[43m.\u001b[49m\u001b[43mcompiler\u001b[49m\u001b[43m.\u001b[49m\u001b[43mcompile_ufl_objects\u001b[49m\u001b[43m(\u001b[49m\n\u001b[32m    331\u001b[39m \u001b[43m    \u001b[49m\u001b[43mufl_objects\u001b[49m\u001b[43m,\u001b[49m\u001b[43m \u001b[49m\u001b[43mprefix\u001b[49m\u001b[43m=\u001b[49m\u001b[43mmodule_name\u001b[49m\u001b[43m,\u001b[49m\u001b[43m \u001b[49m\u001b[43moptions\u001b[49m\u001b[43m=\u001b[49m\u001b[43moptions\u001b[49m\u001b[43m,\u001b[49m\u001b[43m \u001b[49m\u001b[43mvisualise\u001b[49m\u001b[43m=\u001b[49m\u001b[43mvisualise\u001b[49m\n\u001b[32m    332\u001b[39m \u001b[43m\u001b[49m\u001b[43m)\u001b[49m\n\u001b[32m    334\u001b[39m \u001b[38;5;66;03m# Raise error immediately prior to compilation if no support for C99\u001b[39;00m\n\u001b[32m    335\u001b[39m \u001b[38;5;66;03m# _Complex. Doing this here allows FFCx to be used for complex codegen on\u001b[39;00m\n\u001b[32m    336\u001b[39m \u001b[38;5;66;03m# Windows.\u001b[39;00m\n\u001b[32m    337\u001b[39m \u001b[38;5;28;01mif\u001b[39;00m sys.platform.startswith(\u001b[33m\"\u001b[39m\u001b[33mwin32\u001b[39m\u001b[33m\"\u001b[39m):\n",
      "\u001b[36mFile \u001b[39m\u001b[32m/projectnb/me700/students/kbat6359/.conda/envs/fenicsx-env/lib/python3.13/site-packages/ffcx/compiler.py:108\u001b[39m, in \u001b[36mcompile_ufl_objects\u001b[39m\u001b[34m(ufl_objects, options, object_names, prefix, visualise)\u001b[39m\n\u001b[32m    106\u001b[39m \u001b[38;5;66;03m# Stage 1: analysis\u001b[39;00m\n\u001b[32m    107\u001b[39m cpu_time = time()\n\u001b[32m--> \u001b[39m\u001b[32m108\u001b[39m analysis = \u001b[43manalyze_ufl_objects\u001b[49m\u001b[43m(\u001b[49m\u001b[43mufl_objects\u001b[49m\u001b[43m,\u001b[49m\u001b[43m \u001b[49m\u001b[43moptions\u001b[49m\u001b[43m[\u001b[49m\u001b[33;43m\"\u001b[39;49m\u001b[33;43mscalar_type\u001b[39;49m\u001b[33;43m\"\u001b[39;49m\u001b[43m]\u001b[49m\u001b[43m)\u001b[49m  \u001b[38;5;66;03m# type: ignore\u001b[39;00m\n\u001b[32m    109\u001b[39m _print_timing(\u001b[32m1\u001b[39m, time() - cpu_time)\n\u001b[32m    111\u001b[39m \u001b[38;5;66;03m# Stage 2: intermediate representation\u001b[39;00m\n",
      "\u001b[36mFile \u001b[39m\u001b[32m/projectnb/me700/students/kbat6359/.conda/envs/fenicsx-env/lib/python3.13/site-packages/ffcx/analysis.py:94\u001b[39m, in \u001b[36manalyze_ufl_objects\u001b[39m\u001b[34m(ufl_objects, scalar_type)\u001b[39m\n\u001b[32m     91\u001b[39m     \u001b[38;5;28;01melse\u001b[39;00m:\n\u001b[32m     92\u001b[39m         \u001b[38;5;28;01mraise\u001b[39;00m \u001b[38;5;167;01mTypeError\u001b[39;00m(\u001b[33m\"\u001b[39m\u001b[33mUFL objects not recognised.\u001b[39m\u001b[33m\"\u001b[39m)\n\u001b[32m---> \u001b[39m\u001b[32m94\u001b[39m form_data = \u001b[38;5;28;43mtuple\u001b[39;49m\u001b[43m(\u001b[49m\u001b[43m_analyze_form\u001b[49m\u001b[43m(\u001b[49m\u001b[43mform\u001b[49m\u001b[43m,\u001b[49m\u001b[43m \u001b[49m\u001b[43mscalar_type\u001b[49m\u001b[43m)\u001b[49m\u001b[43m \u001b[49m\u001b[38;5;28;43;01mfor\u001b[39;49;00m\u001b[43m \u001b[49m\u001b[43mform\u001b[49m\u001b[43m \u001b[49m\u001b[38;5;129;43;01min\u001b[39;49;00m\u001b[43m \u001b[49m\u001b[43mforms\u001b[49m\u001b[43m)\u001b[49m\n\u001b[32m     95\u001b[39m \u001b[38;5;28;01mfor\u001b[39;00m data \u001b[38;5;129;01min\u001b[39;00m form_data:\n\u001b[32m     96\u001b[39m     elements += data.unique_sub_elements\n",
      "\u001b[36mFile \u001b[39m\u001b[32m/projectnb/me700/students/kbat6359/.conda/envs/fenicsx-env/lib/python3.13/site-packages/ffcx/analysis.py:94\u001b[39m, in \u001b[36m<genexpr>\u001b[39m\u001b[34m(.0)\u001b[39m\n\u001b[32m     91\u001b[39m     \u001b[38;5;28;01melse\u001b[39;00m:\n\u001b[32m     92\u001b[39m         \u001b[38;5;28;01mraise\u001b[39;00m \u001b[38;5;167;01mTypeError\u001b[39;00m(\u001b[33m\"\u001b[39m\u001b[33mUFL objects not recognised.\u001b[39m\u001b[33m\"\u001b[39m)\n\u001b[32m---> \u001b[39m\u001b[32m94\u001b[39m form_data = \u001b[38;5;28mtuple\u001b[39m(\u001b[43m_analyze_form\u001b[49m\u001b[43m(\u001b[49m\u001b[43mform\u001b[49m\u001b[43m,\u001b[49m\u001b[43m \u001b[49m\u001b[43mscalar_type\u001b[49m\u001b[43m)\u001b[49m \u001b[38;5;28;01mfor\u001b[39;00m form \u001b[38;5;129;01min\u001b[39;00m forms)\n\u001b[32m     95\u001b[39m \u001b[38;5;28;01mfor\u001b[39;00m data \u001b[38;5;129;01min\u001b[39;00m form_data:\n\u001b[32m     96\u001b[39m     elements += data.unique_sub_elements\n",
      "\u001b[36mFile \u001b[39m\u001b[32m/projectnb/me700/students/kbat6359/.conda/envs/fenicsx-env/lib/python3.13/site-packages/ffcx/analysis.py:180\u001b[39m, in \u001b[36m_analyze_form\u001b[39m\u001b[34m(form, scalar_type)\u001b[39m\n\u001b[32m    177\u001b[39m complex_mode = np.issubdtype(scalar_type, np.complexfloating)\n\u001b[32m    179\u001b[39m \u001b[38;5;66;03m# Compute form metadata\u001b[39;00m\n\u001b[32m--> \u001b[39m\u001b[32m180\u001b[39m form_data = \u001b[43mufl\u001b[49m\u001b[43m.\u001b[49m\u001b[43malgorithms\u001b[49m\u001b[43m.\u001b[49m\u001b[43mcompute_form_data\u001b[49m\u001b[43m(\u001b[49m\n\u001b[32m    181\u001b[39m \u001b[43m    \u001b[49m\u001b[43mform\u001b[49m\u001b[43m,\u001b[49m\n\u001b[32m    182\u001b[39m \u001b[43m    \u001b[49m\u001b[43mdo_apply_function_pullbacks\u001b[49m\u001b[43m=\u001b[49m\u001b[38;5;28;43;01mTrue\u001b[39;49;00m\u001b[43m,\u001b[49m\n\u001b[32m    183\u001b[39m \u001b[43m    \u001b[49m\u001b[43mdo_apply_integral_scaling\u001b[49m\u001b[43m=\u001b[49m\u001b[38;5;28;43;01mTrue\u001b[39;49;00m\u001b[43m,\u001b[49m\n\u001b[32m    184\u001b[39m \u001b[43m    \u001b[49m\u001b[43mdo_apply_geometry_lowering\u001b[49m\u001b[43m=\u001b[49m\u001b[38;5;28;43;01mTrue\u001b[39;49;00m\u001b[43m,\u001b[49m\n\u001b[32m    185\u001b[39m \u001b[43m    \u001b[49m\u001b[43mpreserve_geometry_types\u001b[49m\u001b[43m=\u001b[49m\u001b[43m(\u001b[49m\u001b[43mufl\u001b[49m\u001b[43m.\u001b[49m\u001b[43mclasses\u001b[49m\u001b[43m.\u001b[49m\u001b[43mJacobian\u001b[49m\u001b[43m,\u001b[49m\u001b[43m)\u001b[49m\u001b[43m,\u001b[49m\n\u001b[32m    186\u001b[39m \u001b[43m    \u001b[49m\u001b[43mdo_apply_restrictions\u001b[49m\u001b[43m=\u001b[49m\u001b[38;5;28;43;01mTrue\u001b[39;49;00m\u001b[43m,\u001b[49m\n\u001b[32m    187\u001b[39m \u001b[43m    \u001b[49m\u001b[43mdo_append_everywhere_integrals\u001b[49m\u001b[43m=\u001b[49m\u001b[38;5;28;43;01mFalse\u001b[39;49;00m\u001b[43m,\u001b[49m\u001b[43m  \u001b[49m\u001b[38;5;66;43;03m# do not add dx integrals to dx(i) in UFL\u001b[39;49;00m\n\u001b[32m    188\u001b[39m \u001b[43m    \u001b[49m\u001b[43mcomplex_mode\u001b[49m\u001b[43m=\u001b[49m\u001b[43mcomplex_mode\u001b[49m\u001b[43m,\u001b[49m\n\u001b[32m    189\u001b[39m \u001b[43m\u001b[49m\u001b[43m)\u001b[49m\n\u001b[32m    191\u001b[39m \u001b[38;5;66;03m# Determine unique quadrature degree and quadrature scheme\u001b[39;00m\n\u001b[32m    192\u001b[39m \u001b[38;5;66;03m# per each integral data\u001b[39;00m\n\u001b[32m    193\u001b[39m \u001b[38;5;28;01mfor\u001b[39;00m \u001b[38;5;28mid\u001b[39m, integral_data \u001b[38;5;129;01min\u001b[39;00m \u001b[38;5;28menumerate\u001b[39m(form_data.integral_data):\n\u001b[32m    194\u001b[39m     \u001b[38;5;66;03m# Iterate through groups of integral data. There is one integral\u001b[39;00m\n\u001b[32m    195\u001b[39m     \u001b[38;5;66;03m# data for all integrals with same domain, itype, subdomain_id\u001b[39;00m\n\u001b[32m   (...)\u001b[39m\u001b[32m    199\u001b[39m     \u001b[38;5;66;03m# all integrals in this integral data group, i.e. must be the\u001b[39;00m\n\u001b[32m    200\u001b[39m     \u001b[38;5;66;03m# same for for the same (domain, itype, subdomain_id)\u001b[39;00m\n",
      "\u001b[36mFile \u001b[39m\u001b[32m/projectnb/me700/students/kbat6359/.conda/envs/fenicsx-env/lib/python3.13/site-packages/ufl/algorithms/compute_form_data.py:427\u001b[39m, in \u001b[36mcompute_form_data\u001b[39m\u001b[34m(form, do_apply_function_pullbacks, do_apply_integral_scaling, do_apply_geometry_lowering, preserve_geometry_types, do_apply_default_restrictions, do_apply_restrictions, do_estimate_degrees, do_append_everywhere_integrals, complex_mode)\u001b[39m\n\u001b[32m    424\u001b[39m preprocessed_form = reconstruct_form_from_integral_data(\u001b[38;5;28mself\u001b[39m.integral_data)\n\u001b[32m    426\u001b[39m \u001b[38;5;66;03m# TODO: Test how fast this is\u001b[39;00m\n\u001b[32m--> \u001b[39m\u001b[32m427\u001b[39m \u001b[43mcheck_form_arity\u001b[49m\u001b[43m(\u001b[49m\u001b[43mpreprocessed_form\u001b[49m\u001b[43m,\u001b[49m\u001b[43m \u001b[49m\u001b[38;5;28;43mself\u001b[39;49m\u001b[43m.\u001b[49m\u001b[43moriginal_form\u001b[49m\u001b[43m.\u001b[49m\u001b[43marguments\u001b[49m\u001b[43m(\u001b[49m\u001b[43m)\u001b[49m\u001b[43m,\u001b[49m\u001b[43m \u001b[49m\u001b[43mcomplex_mode\u001b[49m\u001b[43m)\u001b[49m\n\u001b[32m    429\u001b[39m \u001b[38;5;66;03m# TODO: This member is used by unit tests, change the tests to\u001b[39;00m\n\u001b[32m    430\u001b[39m \u001b[38;5;66;03m# remove this!\u001b[39;00m\n\u001b[32m    431\u001b[39m \u001b[38;5;28mself\u001b[39m.preprocessed_form = preprocessed_form\n",
      "\u001b[36mFile \u001b[39m\u001b[32m/projectnb/me700/students/kbat6359/.conda/envs/fenicsx-env/lib/python3.13/site-packages/ufl/algorithms/check_arities.py:213\u001b[39m, in \u001b[36mcheck_form_arity\u001b[39m\u001b[34m(form, arguments, complex_mode)\u001b[39m\n\u001b[32m    211\u001b[39m \u001b[38;5;250m\u001b[39m\u001b[33;03m\"\"\"Check the arity of a form.\"\"\"\u001b[39;00m\n\u001b[32m    212\u001b[39m \u001b[38;5;28;01mfor\u001b[39;00m itg \u001b[38;5;129;01min\u001b[39;00m form.integrals():\n\u001b[32m--> \u001b[39m\u001b[32m213\u001b[39m     \u001b[43mcheck_integrand_arity\u001b[49m\u001b[43m(\u001b[49m\u001b[43mitg\u001b[49m\u001b[43m.\u001b[49m\u001b[43mintegrand\u001b[49m\u001b[43m(\u001b[49m\u001b[43m)\u001b[49m\u001b[43m,\u001b[49m\u001b[43m \u001b[49m\u001b[43marguments\u001b[49m\u001b[43m,\u001b[49m\u001b[43m \u001b[49m\u001b[43mcomplex_mode\u001b[49m\u001b[43m)\u001b[49m\n",
      "\u001b[36mFile \u001b[39m\u001b[32m/projectnb/me700/students/kbat6359/.conda/envs/fenicsx-env/lib/python3.13/site-packages/ufl/algorithms/check_arities.py:194\u001b[39m, in \u001b[36mcheck_integrand_arity\u001b[39m\u001b[34m(expr, arguments, complex_mode)\u001b[39m\n\u001b[32m    192\u001b[39m arguments = \u001b[38;5;28mtuple\u001b[39m(\u001b[38;5;28msorted\u001b[39m(\u001b[38;5;28mset\u001b[39m(arguments), key=\u001b[38;5;28;01mlambda\u001b[39;00m x: (x.number(), x.part())))\n\u001b[32m    193\u001b[39m rules = ArityChecker(arguments)\n\u001b[32m--> \u001b[39m\u001b[32m194\u001b[39m arg_tuples = \u001b[43mmap_expr_dag\u001b[49m\u001b[43m(\u001b[49m\u001b[43mrules\u001b[49m\u001b[43m,\u001b[49m\u001b[43m \u001b[49m\u001b[43mexpr\u001b[49m\u001b[43m,\u001b[49m\u001b[43m \u001b[49m\u001b[43mcompress\u001b[49m\u001b[43m=\u001b[49m\u001b[38;5;28;43;01mFalse\u001b[39;49;00m\u001b[43m)\u001b[49m\n\u001b[32m    195\u001b[39m args = \u001b[38;5;28mtuple\u001b[39m(a[\u001b[32m0\u001b[39m] \u001b[38;5;28;01mfor\u001b[39;00m a \u001b[38;5;129;01min\u001b[39;00m arg_tuples)\n\u001b[32m    196\u001b[39m \u001b[38;5;28;01mif\u001b[39;00m args != arguments:\n",
      "\u001b[36mFile \u001b[39m\u001b[32m/projectnb/me700/students/kbat6359/.conda/envs/fenicsx-env/lib/python3.13/site-packages/ufl/corealg/map_dag.py:35\u001b[39m, in \u001b[36mmap_expr_dag\u001b[39m\u001b[34m(function, expression, compress, vcache, rcache)\u001b[39m\n\u001b[32m     15\u001b[39m \u001b[38;5;28;01mdef\u001b[39;00m\u001b[38;5;250m \u001b[39m\u001b[34mmap_expr_dag\u001b[39m(function, expression, compress=\u001b[38;5;28;01mTrue\u001b[39;00m, vcache=\u001b[38;5;28;01mNone\u001b[39;00m, rcache=\u001b[38;5;28;01mNone\u001b[39;00m):\n\u001b[32m     16\u001b[39m \u001b[38;5;250m    \u001b[39m\u001b[33;03m\"\"\"Apply a function to each subexpression node in an expression DAG.\u001b[39;00m\n\u001b[32m     17\u001b[39m \n\u001b[32m     18\u001b[39m \u001b[33;03m    If the same function is called multiple times in a transformation\u001b[39;00m\n\u001b[32m   (...)\u001b[39m\u001b[32m     33\u001b[39m \u001b[33;03m        The result of the final function call\u001b[39;00m\n\u001b[32m     34\u001b[39m \u001b[33;03m    \"\"\"\u001b[39;00m\n\u001b[32m---> \u001b[39m\u001b[32m35\u001b[39m     (result,) = \u001b[43mmap_expr_dags\u001b[49m\u001b[43m(\u001b[49m\n\u001b[32m     36\u001b[39m \u001b[43m        \u001b[49m\u001b[43mfunction\u001b[49m\u001b[43m,\u001b[49m\u001b[43m \u001b[49m\u001b[43m[\u001b[49m\u001b[43mexpression\u001b[49m\u001b[43m]\u001b[49m\u001b[43m,\u001b[49m\u001b[43m \u001b[49m\u001b[43mcompress\u001b[49m\u001b[43m=\u001b[49m\u001b[43mcompress\u001b[49m\u001b[43m,\u001b[49m\u001b[43m \u001b[49m\u001b[43mvcache\u001b[49m\u001b[43m=\u001b[49m\u001b[43mvcache\u001b[49m\u001b[43m,\u001b[49m\u001b[43m \u001b[49m\u001b[43mrcache\u001b[49m\u001b[43m=\u001b[49m\u001b[43mrcache\u001b[49m\n\u001b[32m     37\u001b[39m \u001b[43m    \u001b[49m\u001b[43m)\u001b[49m\n\u001b[32m     38\u001b[39m     \u001b[38;5;28;01mreturn\u001b[39;00m result\n",
      "\u001b[36mFile \u001b[39m\u001b[32m/projectnb/me700/students/kbat6359/.conda/envs/fenicsx-env/lib/python3.13/site-packages/ufl/corealg/map_dag.py:103\u001b[39m, in \u001b[36mmap_expr_dags\u001b[39m\u001b[34m(function, expressions, compress, vcache, rcache)\u001b[39m\n\u001b[32m    101\u001b[39m     r = handlers[v._ufl_typecode_](v)\n\u001b[32m    102\u001b[39m \u001b[38;5;28;01melse\u001b[39;00m:\n\u001b[32m--> \u001b[39m\u001b[32m103\u001b[39m     r = \u001b[43mhandlers\u001b[49m\u001b[43m[\u001b[49m\u001b[43mv\u001b[49m\u001b[43m.\u001b[49m\u001b[43m_ufl_typecode_\u001b[49m\u001b[43m]\u001b[49m\u001b[43m(\u001b[49m\u001b[43mv\u001b[49m\u001b[43m,\u001b[49m\u001b[43m \u001b[49m\u001b[43m*\u001b[49m\u001b[43m[\u001b[49m\u001b[43mvcache\u001b[49m\u001b[43m[\u001b[49m\u001b[43mu\u001b[49m\u001b[43m]\u001b[49m\u001b[43m \u001b[49m\u001b[38;5;28;43;01mfor\u001b[39;49;00m\u001b[43m \u001b[49m\u001b[43mu\u001b[49m\u001b[43m \u001b[49m\u001b[38;5;129;43;01min\u001b[39;49;00m\u001b[43m \u001b[49m\u001b[43mv\u001b[49m\u001b[43m.\u001b[49m\u001b[43mufl_operands\u001b[49m\u001b[43m]\u001b[49m\u001b[43m)\u001b[49m\n\u001b[32m    105\u001b[39m \u001b[38;5;66;03m# Optionally check if r is in rcache, a memory optimization\u001b[39;00m\n\u001b[32m    106\u001b[39m \u001b[38;5;66;03m# to be able to keep representation of result compact\u001b[39;00m\n\u001b[32m    107\u001b[39m \u001b[38;5;28;01mif\u001b[39;00m compress:\n",
      "\u001b[36mFile \u001b[39m\u001b[32m/projectnb/me700/students/kbat6359/.conda/envs/fenicsx-env/lib/python3.13/site-packages/ufl/algorithms/check_arities.py:60\u001b[39m, in \u001b[36mArityChecker.sum\u001b[39m\u001b[34m(self, o, a, b)\u001b[39m\n\u001b[32m     57\u001b[39m \u001b[38;5;250m\u001b[39m\u001b[33;03m\"\"\"Apply to sum.\"\"\"\u001b[39;00m\n\u001b[32m     58\u001b[39m \u001b[38;5;28;01mif\u001b[39;00m a != b:\n\u001b[32m     59\u001b[39m     \u001b[38;5;28;01mraise\u001b[39;00m ArityMismatch(\n\u001b[32m---> \u001b[39m\u001b[32m60\u001b[39m         \u001b[33mf\u001b[39m\u001b[33m\"\u001b[39m\u001b[33mAdding expressions with non-matching form arguments \u001b[39m\u001b[38;5;132;01m{\u001b[39;00m\u001b[43m_afmt\u001b[49m\u001b[43m(\u001b[49m\u001b[43ma\u001b[49m\u001b[43m)\u001b[49m\u001b[38;5;132;01m}\u001b[39;00m\u001b[33m vs \u001b[39m\u001b[38;5;132;01m{\u001b[39;00m_afmt(b)\u001b[38;5;132;01m}\u001b[39;00m\u001b[33m.\u001b[39m\u001b[33m\"\u001b[39m\n\u001b[32m     61\u001b[39m     )\n\u001b[32m     62\u001b[39m \u001b[38;5;28;01mreturn\u001b[39;00m a\n",
      "\u001b[36mFile \u001b[39m\u001b[32m/projectnb/me700/students/kbat6359/.conda/envs/fenicsx-env/lib/python3.13/site-packages/ufl/algorithms/check_arities.py:20\u001b[39m, in \u001b[36m_afmt\u001b[39m\u001b[34m(atuple)\u001b[39m\n\u001b[32m     18\u001b[39m \u001b[38;5;28;01mdef\u001b[39;00m\u001b[38;5;250m \u001b[39m\u001b[34m_afmt\u001b[39m(atuple: Tuple[Argument, \u001b[38;5;28mbool\u001b[39m]) -> \u001b[38;5;28mstr\u001b[39m:\n\u001b[32m     19\u001b[39m \u001b[38;5;250m    \u001b[39m\u001b[33;03m\"\"\"Return a string representation of an arity tuple.\"\"\"\u001b[39;00m\n\u001b[32m---> \u001b[39m\u001b[32m20\u001b[39m     arg, conj = atuple\n\u001b[32m     21\u001b[39m     \u001b[38;5;28;01mreturn\u001b[39;00m \u001b[33mf\u001b[39m\u001b[33m\"\u001b[39m\u001b[33mconj(\u001b[39m\u001b[38;5;132;01m{\u001b[39;00marg\u001b[38;5;132;01m}\u001b[39;00m\u001b[33m)\u001b[39m\u001b[33m\"\u001b[39m \u001b[38;5;28;01mif\u001b[39;00m conj \u001b[38;5;28;01melse\u001b[39;00m \u001b[38;5;28mstr\u001b[39m(arg)\n",
      "\u001b[31mValueError\u001b[39m: not enough values to unpack (expected 2, got 1)"
     ]
    }
   ],
   "source": [
    "# Solver setup using a linear solver\n",
    "problem = LinearProblem(a, L, bcs=bcs, u=solution)\n",
    "problem.solve()"
   ]
  },
  {
   "attachments": {},
   "cell_type": "markdown",
   "metadata": {},
   "source": [
    "## Visualization\n",
    "\n",
    "For visualization, we first create a grid of the mesh, then plot the mesh. Note that we are not using the standard pyplot functions. FEniCSx works incredibly well when using the pyvista library, as it specializes in vector and array plotting, handling 3-dimensional simulations with ease."
   ]
  },
  {
   "attachments": {},
   "cell_type": "markdown",
   "metadata": {},
   "source": [
    "## Time Steps\n",
    "\n",
    "Finally, because we are working with a non-linear problem, we need to take into account how accelaration and velocity changes based on what time step we are on. Usually for linear problems, it would be a constant application, but this is where we utilize Fenicsx to its fullest and show how it can solve complex computations. "
   ]
  },
  {
   "cell_type": "code",
   "execution_count": null,
   "metadata": {},
   "outputs": [],
   "source": [
    "# Define the moment of inertia for the beam's cross-section\n",
    "Inertia = W * H**3 / 12  # Assuming a rectangular cross-section\n",
    "\n",
    "# Bounding box tree for collision detection\n",
    "bb_tree = geometry.bb_tree(domain, domain.topology.dim)\n",
    "\n",
    "# Define points along the beam's length for displacement evaluation\n",
    "x = np.linspace(0, L, 100)\n",
    "points = np.zeros((3, 100))\n",
    "points[0] = x\n",
    "points[1] = W / 2  # Mid-width of the beam\n",
    "points[2] = H / 2  # Mid-height of the beam\n",
    "\n",
    "cells = []\n",
    "points_on_proc = []\n",
    "u_values = []\n",
    "\n",
    "# Find cells containing the points\n",
    "cell_candidates = geometry.compute_collisions_points(bb_tree, points.T)\n",
    "colliding_cells = geometry.compute_colliding_cells(domain, cell_candidates, points.T)\n",
    "for i, point in enumerate(points.T):\n",
    "    if len(colliding_cells.links(i)) > 0:\n",
    "        points_on_proc.append(point)\n",
    "        cells.append(colliding_cells.links(i)[0])\n",
    "        u_eval = u.eval(point, cells[-1])\n",
    "        u_values.append(u_eval)\n",
    "\n",
    "points_on_proc = np.array(points_on_proc)\n",
    "u_values = np.array(u_values)\n",
    "\n",
    "# Plot FEA results\n",
    "fig = plt.figure()\n",
    "plt.plot(points_on_proc[:, 0], u_values[:, 2], \"k\", linewidth=2, label=\"FEA\")  # Z-displacement\n",
    "plt.grid(True)\n",
    "\n",
    "# Define the analytic solution for comparison\n",
    "u_analytic = lambda x: (-q.value[2] / (24 * E.value * Inertia)) * (x**4 - 2 * L * x**3 + L**3 * x)\n",
    "x_analytic = np.linspace(0, L, 100)\n",
    "u_analytic_values = u_analytic(x_analytic)\n",
    "\n",
    "# Compute and save the error\n",
    "error = np.max(np.abs(u_values[:, 2] - u_analytic_values))\n",
    "np.savetxt(\"error.txt\", [error])\n",
    "print(f\"Error: {error}\")\n",
    "\n",
    "# Plot analytic solution\n",
    "plt.plot(x_analytic, u_analytic_values, \"r\", linewidth=2, label=\"Analytic\")\n",
    "plt.grid(True)\n",
    "plt.xlabel(\"x\")\n",
    "plt.ylabel(\"Displacement (Z)\")\n",
    "plt.legend()\n",
    "output_png = \"Computed_vs_Analytic_Error.png\"\n",
    "plt.savefig(output_png)"
   ]
  },
  {
   "attachments": {},
   "cell_type": "markdown",
   "metadata": {},
   "source": [
    "## Results\n",
    "\n",
    "We have a saved `bridge_dynamics_h_mesh.gif` file saved in the same directory. This shows us the deformation that occurs on our bridge when we apply a force in the downward Z direction. In comparison to part 1, we see how our structure now deforms downward as opposed to \"out of the screen\" in the Y direction."
   ]
  }
 ],
 "metadata": {
  "kernelspec": {
   "display_name": "fenicsx-env",
   "language": "python",
   "name": "python3"
  },
  "language_info": {
   "codemirror_mode": {
    "name": "ipython",
    "version": 3
   },
   "file_extension": ".py",
   "mimetype": "text/x-python",
   "name": "python",
   "nbconvert_exporter": "python",
   "pygments_lexer": "ipython3",
   "version": "3.13.2"
  },
  "orig_nbformat": 4
 },
 "nbformat": 4,
 "nbformat_minor": 2
}
