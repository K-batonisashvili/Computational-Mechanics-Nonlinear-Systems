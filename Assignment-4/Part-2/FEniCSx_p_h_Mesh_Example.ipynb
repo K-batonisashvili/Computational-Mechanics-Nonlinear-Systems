{
 "cells": [
  {
   "attachments": {},
   "cell_type": "markdown",
   "metadata": {},
   "source": [
    "# FEniCSx H and P Tutorial\n",
    "\n",
    "In this tutorial, we will be continuing our FEniCSx Bridge example, except this time we will be fully incoprorating the 3rd dimension and make our bridge a 3D structure. Last time, our bridge had a force applied to it at a single point at the center of the beam but in the Y direction. This time, we added depth and will be applying a downward force in the Z-axis. Before getting into the problem, please ensure that FEniCSx and DolfinX are installed on your computer. For assistance with installation, please refer to the `readme.md` for tips on installing the platform, creating a conda environment, activating it (also in your terminal/visual studio session), and running the Jupyter Notebook."
   ]
  },
  {
   "attachments": {},
   "cell_type": "markdown",
   "metadata": {},
   "source": [
    "## Library Imports\n",
    "\n",
    "To ensure that FEniCSx runs properly, please run each Jupyter notebook cell in order. If you run any cells ahead of others, the code might error out. First and foremost, we call our imports, the main ones being Numpy, DolfinX, UFL. \n",
    "\n",
    "Here:\n",
    "\n",
    "- Numpy:        Standard import which is for computations and arrays\n",
    "- DolfinX:      Core FEniCSx library for FEA\n",
    "- UFL:          Domain-specific language usedfor FEA\n"
   ]
  },
  {
   "cell_type": "code",
   "execution_count": null,
   "metadata": {},
   "outputs": [],
   "source": [
    "import numpy as np\n",
    "from mpi4py import MPI\n",
    "from dolfinx import mesh, fem, plot\n",
    "import ufl\n",
    "import pyvista\n",
    "from dolfinx.fem import petsc\n",
    "from dolfinx.plot import vtk_mesh"
   ]
  },
  {
   "attachments": {},
   "cell_type": "markdown",
   "metadata": {},
   "source": [
    "## Simple Bridge Problem Setup\n",
    "\n",
    "Next we need to initialize our problem variables. As discussed before, we are setting up a 3 dimensional bridge, fixed on both ends, and simulating a downward force right along the beam. Differing from part 1, we are no longer applying a force as a point right in the middle of the bridge, instead we are applying a uniform load across the whole bridge. This should provide a good visualization distinction from what we saw previously. \n",
    "\n",
    "The steps for this problem will look like this:\n",
    "1) Define mesh\n",
    "2) Create the domain space (label the edges)\n",
    "3) Define material properties"
   ]
  },
  {
   "cell_type": "code",
   "execution_count": null,
   "metadata": {},
   "outputs": [],
   "source": [
    "# Bridge dimensions\n",
    "L, W, H = 10.0, 1.0, 0.5  # Length, width, height\n",
    "num_elements = [50, 5, 5]  # Mesh resolution \n",
    "\n",
    "# Create a 3D bridge mesh\n",
    "domain = mesh.create_box(MPI.COMM_WORLD, [[0.0, 0.0, 0.0], [L, W, H]], num_elements, mesh.CellType.hexahedron)\n",
    "V = fem.functionspace(domain, (\"Lagrange\", 1, (domain.geometry.dim, )))\n",
    "\n",
    "# Material properties for bridge\n",
    "rho = 7850  # Density \n",
    "E = default_scalar_type(2.1e11)  \n",
    "nu = default_scalar_type(0.3)\n",
    "mu = fem.Constant(domain, E / (2 * (1 + nu)))\n",
    "lmbda = fem.Constant(domain, E * nu / ((1 + nu) * (1 - 2 * nu)))\n"
   ]
  },
  {
   "cell_type": "code",
   "execution_count": null,
   "metadata": {},
   "outputs": [],
   "source": [
    "# Define the weak form\n",
    "u = fem.Function(V)  # Displacement\n",
    "v = ufl.TestFunction(V) # Test function\n",
    "u_t = fem.Function(V)  # Velocity\n",
    "u_tt = fem.Function(V)  # Acceleration\n",
    "\n",
    "I = ufl.variable(ufl.Identity(domain.geometry.dim)) \n",
    "F = ufl.variable(I + ufl.grad(u)) \n",
    "C = ufl.variable(F.T * F) \n",
    "Ic = ufl.variable(ufl.tr(C)) \n",
    "J = ufl.variable(ufl.det(F)) \n",
    "psi = (mu / 2) * (Ic - 3) - mu * ufl.ln(J) + (lmbda / 2) * (ufl.ln(J))**2\n",
    "P = ufl.diff(psi, F) "
   ]
  },
  {
   "attachments": {},
   "cell_type": "markdown",
   "metadata": {},
   "source": [
    "## Boundary Conditions\n",
    "\n",
    "Simple boundary condition applications where we define where the left and right boundaries of the beam are. Left boundary conditions are at 0,0. Right boundary conditions are the length of the beam."
   ]
  },
  {
   "cell_type": "code",
   "execution_count": null,
   "metadata": {},
   "outputs": [],
   "source": [
    "left_dofs = fem.locate_dofs_geometrical(V, left_end)\n",
    "right_dofs = fem.locate_dofs_geometrical(V, right_end)\n",
    "zero_displacement = np.array([0.0, 0.0, 0.0], dtype=default_scalar_type)\n",
    "bcs = [fem.dirichletbc(zero_displacement, left_dofs, V),\n",
    "       fem.dirichletbc(zero_displacement, right_dofs, V)]"
   ]
  },
  {
   "attachments": {},
   "cell_type": "markdown",
   "metadata": {},
   "source": [
    "## Force Application\n",
    "\n",
    "Next we define our downward force for our beam. There are many different ways to do this, but we are using a uniform constant downward Z force. "
   ]
  },
  {
   "cell_type": "code",
   "execution_count": null,
   "metadata": {},
   "outputs": [],
   "source": [
    "# External force: Vertical force applied at the center of the bridge\n",
    "force_center = fem.Constant(domain, default_scalar_type((0.0, 0.0, -1e4)))  # Force in the negative z-direction\n",
    "ds = ufl.Measure(\"ds\", domain=domain)\n",
    "dx = ufl.Measure(\"dx\", domain=domain)\n",
    "F_form = rho * ufl.dot(u_tt, v) * dx + ufl.inner(ufl.grad(v), P) * dx - ufl.dot(v, force_center) * ds"
   ]
  },
  {
   "attachments": {},
   "cell_type": "markdown",
   "metadata": {},
   "source": [
    "## Solver Initialization\n",
    "\n",
    "We now need to initialize our solver and set up the tolerance needed for our computation to be considered \"close enough\". "
   ]
  },
  {
   "cell_type": "code",
   "execution_count": null,
   "metadata": {},
   "outputs": [],
   "source": [
    "# Solver setup\n",
    "problem = NonlinearProblem(F_form, u, bcs)\n",
    "solver = NewtonSolver(domain.comm, problem)\n",
    "solver.atol = 1e-8\n",
    "solver.rtol = 1e-8\n",
    "solver.convergence_criterion = \"incremental\""
   ]
  },
  {
   "attachments": {},
   "cell_type": "markdown",
   "metadata": {},
   "source": [
    "## Visualization\n",
    "\n",
    "We are going to visualize this in two ways. The first by creating a grid of the mesh itself, and then plotting the mesh. Note that we are not using the standard pyplot functions as we are not using that library at all. FEniCSx works incredibly well when using the pyvista library, as it specializes in vector and array plotting, handling 3 dimensional simulation with ease."
   ]
  },
  {
   "cell_type": "code",
   "execution_count": null,
   "metadata": {},
   "outputs": [],
   "source": [
    "pyvista.start_xvfb()\n",
    "plotter = pyvista.Plotter()\n",
    "plotter.open_gif(\"bridge_dynamics_h_mesh.gif\", fps=10)\n",
    "\n",
    "topology, cells, geometry = plot.vtk_mesh(u.function_space)\n",
    "function_grid = pyvista.UnstructuredGrid(topology, cells, geometry)\n",
    "function_grid[\"u\"] = np.zeros((geometry.shape[0], 3))\n",
    "function_grid.set_active_vectors(\"u\")\n",
    "\n",
    "actor = plotter.add_mesh(function_grid, show_edges=True, lighting=False, clim=[0, 0.1])"
   ]
  },
  {
   "cell_type": "markdown",
   "metadata": {},
   "source": [
    "## Time Steps\n",
    "\n",
    "Finally, because we are working with a non-linear problem, we need to take into account how accelaration and velocity changes based on what time step we are on. Usually for linear problems, it would be a constant application, but this is where we utilize Fenicsx to its fullest and show how it can solve complex computations. "
   ]
  },
  {
   "cell_type": "code",
   "execution_count": null,
   "metadata": {},
   "outputs": [],
   "source": [
    "# Time-stepping loop\n",
    "log.set_log_level(log.LogLevel.INFO)\n",
    "for step in range(num_steps):\n",
    "    t = step * dt\n",
    "    print(f\"Time step {step + 1}/{num_steps}, Time: {t:.2f}s\")\n",
    "    \n",
    "    # Solve for the displacement\n",
    "    num_its, converged = solver.solve(u)\n",
    "    assert converged, f\"Solver did not converge at step {step + 1}\"\n",
    "    u.x.scatter_forward()\n",
    "\n",
    "    # Update the velocity and acceleration for the next time step\n",
    "    u_t.x.array[:] = u.x.array[:]\n",
    "    u_tt.x.array[:] = (u.x.array - u_t.x.array) / dt\n",
    "    function_grid[\"u\"] = u.x.array[:].reshape(-1, 3)\n",
    "    function_grid[\"u\"] = np.zeros((geometry.shape[0], 3))\n",
    "    function_grid.set_active_vectors(\"u\")\n",
    "    plotter.update_coordinates(function_grid, render=False)\n",
    "    plotter.write_frame()\n",
    "\n",
    "plotter.close()"
   ]
  },
  {
   "attachments": {},
   "cell_type": "markdown",
   "metadata": {},
   "source": [
    "## Results\n",
    "\n",
    "We have a saved `bridge_dynamics_h_mesh.gif` file saved in the same directory. This shows us the deformation that occurs on our bridge when we apply a force in the downward Z direction. In comparison to part 1, we see how our structure now deforms downward as opposed to \"out of the screen\" in the Y direction."
   ]
  }
 ],
 "metadata": {
  "kernelspec": {
   "display_name": "fenicsx-env",
   "language": "python",
   "name": "python3"
  },
  "language_info": {
   "codemirror_mode": {
    "name": "ipython",
    "version": 3
   },
   "file_extension": ".py",
   "mimetype": "text/x-python",
   "name": "python",
   "nbconvert_exporter": "python",
   "pygments_lexer": "ipython3",
   "version": "3.13.2"
  },
  "orig_nbformat": 4
 },
 "nbformat": 4,
 "nbformat_minor": 2
}
