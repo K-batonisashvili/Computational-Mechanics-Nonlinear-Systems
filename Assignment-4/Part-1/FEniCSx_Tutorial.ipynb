{
 "cells": [
  {
   "attachments": {},
   "cell_type": "markdown",
   "metadata": {},
   "source": [
    "# FEniCSx Tutorial\n",
    "\n",
    "In this tutorial, we will be looking at the FEniCSx computing platform and seeing how it assists with FEA analysis. As we have seen in class, our starting point was going through simple elastic solvers and Newtonian methods. We will similarily begin this tutorial with an implementation of Linear Elasticity in 2 dimensions, or simulating a downward force on an elastic beam. Before getting into the problem, please ensure that FEniCSx and DolfinX are installed on your computer. For assistance with installation, please refer to the 'readme.md' for tips on installing the platform, creating a conda environment, activating it (also in your terminal/visual studio session), and running the Jupyter Notebook."
   ]
  },
  {
   "attachments": {},
   "cell_type": "markdown",
   "metadata": {},
   "source": [
    "## Library Imports\n",
    "\n",
    "To ensure that FEniCSx runs properly, please run each Jupyter notebook cell in order. If you run any cells ahead of others, the code might error out. First and foremost, we call our imports, the main ones being Numpy, DolfinX, UFL. \n",
    "\n",
    "Here:\n"
   ]
  },
  {
   "cell_type": "code",
   "execution_count": null,
   "metadata": {},
   "outputs": [],
   "source": [
    "import numpy as np\n",
    "from mpi4py import MPI\n",
    "from dolfinx import mesh, fem, plot\n",
    "import ufl\n",
    "import pyvista\n",
    "from dolfinx.plot import create_vtk_mesh"
   ]
  }
 ],
 "metadata": {
  "language_info": {
   "name": "python"
  },
  "orig_nbformat": 4
 },
 "nbformat": 4,
 "nbformat_minor": 2
}
