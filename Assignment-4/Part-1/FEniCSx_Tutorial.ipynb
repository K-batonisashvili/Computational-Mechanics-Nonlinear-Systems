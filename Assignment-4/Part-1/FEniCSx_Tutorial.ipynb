{
 "cells": [
  {
   "attachments": {},
   "cell_type": "markdown",
   "metadata": {},
   "source": [
    "# FEniCSx Tutorial\n",
    "\n",
    "In this tutorial, we will be looking at the FEniCSx computing platform and seeing how it assists with FEA analysis. As we have seen in class, our starting point was going through simple elastic solvers and Newtonian methods. We will similarily begin this tutorial with an implementation of Linear Elasticity in 2 dimensions, or simulating a downward force on an elastic beam. Before getting into the problem, please ensure that FEniCSx and DolfinX are installed on your computer. For assistance with installation, please refer to the `readme.md` for tips on installing the platform, creating a conda environment, activating it (also in your terminal/visual studio session), and running the Jupyter Notebook."
   ]
  },
  {
   "attachments": {},
   "cell_type": "markdown",
   "metadata": {},
   "source": [
    "## Library Imports\n",
    "\n",
    "To ensure that FEniCSx runs properly, please run each Jupyter notebook cell in order. If you run any cells ahead of others, the code might error out. First and foremost, we call our imports, the main ones being Numpy, DolfinX, UFL. \n",
    "\n",
    "Here:\n",
    "\n",
    "- Numpy:        Standard import which is for computations and arrays\n",
    "- DolfinX:      Core FEniCSx library for FEA\n",
    "- UFL:          Domain-specific language usedfor FEA\n"
   ]
  },
  {
   "cell_type": "code",
   "execution_count": null,
   "metadata": {},
   "outputs": [],
   "source": [
    "import numpy as np\n",
    "from mpi4py import MPI\n",
    "from dolfinx import mesh, fem, plot\n",
    "import ufl\n",
    "import pyvista\n",
    "from dolfinx.fem import petsc\n",
    "from dolfinx.plot import vtk_mesh"
   ]
  },
  {
   "attachments": {},
   "cell_type": "markdown",
   "metadata": {},
   "source": [
    "## Simple Bridge Problem Setup\n",
    "\n",
    "Next we need to initialize our problem variables. As discussed before, we are setting up a simple bridge which is fixed on both ends, and simulating a downward *point* force right in the middle of the beam. Please note that in this example, we are not applying uniform force and instead are testing how a single point heavy object might affect the bridge, like a semi carrying gravel. \n",
    "\n",
    "The steps for this problem will look like this:\n",
    "1) Define mesh\n",
    "2) Create the domain space (label the edges)\n",
    "3) Define material properties"
   ]
  },
  {
   "cell_type": "code",
   "execution_count": null,
   "metadata": {},
   "outputs": [],
   "source": [
    "# Create 2D rectangular mesh (bridge slab)\n",
    "L, H = 4.0, 0.5\n",
    "nx, ny = 80, 10 # num of elements which are hopefully not above threshold test\n",
    "domain = mesh.create_rectangle(MPI.COMM_WORLD,\n",
    "                               [np.array([0.0, 0.0]), np.array([L, H])],\n",
    "                               [nx, ny],\n",
    "                               cell_type=mesh.CellType.triangle)\n",
    "\n",
    "# function space for displacement\n",
    "V = fem.functionspace(domain, (\"Lagrange\", 1, (domain.geometry.dim, )))\n",
    "\n",
    "# Material properties supposedly resembling steel\n",
    "E = 2e11  # Young’s modulus\n",
    "nu = 0.3  # Poisson\n",
    "mu = E / (2 * (1 + nu))\n",
    "lmbda = E * nu / ((1 + nu) * (1 - 2 * nu))"
   ]
  },
  {
   "attachments": {},
   "cell_type": "markdown",
   "metadata": {},
   "source": [
    "## Stress & Strain Simplicity\n",
    "\n",
    "In this next section we are defining stress and strain functions which are used for simplicity's sake. There are built in gradient functions within ufl which can calculate this, but to make our lives easier and our code more readable (and follow the math that we went over), we explicitly define stress and strain."
   ]
  },
  {
   "cell_type": "code",
   "execution_count": null,
   "metadata": {},
   "outputs": [],
   "source": [
    "# Defining strain and stress \n",
    "def epsilon(u):\n",
    "    return ufl.sym(ufl.grad(u))\n",
    "\n",
    "def sigma(u):\n",
    "    return lmbda * ufl.tr(epsilon(u)) * ufl.Identity(len(u)) + 2 * mu * epsilon(u)"
   ]
  },
  {
   "attachments": {},
   "cell_type": "markdown",
   "metadata": {},
   "source": [
    "## Boundary Conditions\n",
    "\n",
    "Simple boundary condition applications where we define where the left and right boundaries of the beam are. Left boundary conditions are at 0,0. Right boundary conditions are the length of the beam."
   ]
  },
  {
   "cell_type": "code",
   "execution_count": null,
   "metadata": {},
   "outputs": [],
   "source": [
    "def left(x): return np.isclose(x[0], 0.0)\n",
    "def right(x): return np.isclose(x[0], L)\n",
    "fixed_dofs = fem.locate_dofs_geometrical(V, lambda x: left(x) | right(x)) # this line locates the left and right edges of our rectangle\n",
    "bc = fem.dirichletbc(np.array([0.0, 0.0], dtype=np.float64), fixed_dofs, V)"
   ]
  },
  {
   "attachments": {},
   "cell_type": "markdown",
   "metadata": {},
   "source": [
    "## UFL Commands\n",
    "\n",
    "The following 3 commands are now called from UFL which are essential in our finite element analysis. We calculate the displacement by calling TrialFunction and passing our function space vector. We get the weak form by calling the TestFunction. Finally, we get the integral of the inner product that we learned about last couple of lectures. These commands are essential steps in our FEA pipeline."
   ]
  },
  {
   "cell_type": "code",
   "execution_count": null,
   "metadata": {},
   "outputs": [],
   "source": [
    "u = ufl.TrialFunction(V)\n",
    "v = ufl.TestFunction(V) \n",
    "a = ufl.inner(sigma(u), epsilon(v)) * ufl.dx "
   ]
  },
  {
   "attachments": {},
   "cell_type": "markdown",
   "metadata": {},
   "source": [
    "## Force Application\n",
    "\n",
    "Next we define a function called CenterTopLoad for more ease of use. This function will simply take the length of the beam and half it for the X coordinate, then use the height as the Y coordinate. We apply this load to the negative Y direction of the mesh by calling the meshtags function and passing the domain, topology (negative y), boundary properties, and load.  "
   ]
  },
  {
   "cell_type": "code",
   "execution_count": null,
   "metadata": {},
   "outputs": [],
   "source": [
    "# Applying load on the top edge of the bridge/beam\n",
    "class CenterTopLoad:\n",
    "    def __init__(self, width=0.1):\n",
    "        self.width = width\n",
    "    def __call__(self, x):\n",
    "        # Load around x = L/2 and top y = H\n",
    "        return np.logical_and(np.isclose(x[1], H),\n",
    "                              np.abs(x[0] - L/2) < self.width)\n",
    "\n",
    "# Load is applied in the negative y-direction\n",
    "boundary_facets = mesh.locate_entities_boundary(\n",
    "    domain, domain.topology.dim - 1, CenterTopLoad(width=0.1)\n",
    ")\n",
    "\n",
    "# Create a meshtag for the boundary\n",
    "load_markers = mesh.meshtags(domain, domain.topology.dim - 1, boundary_facets, 1)\n"
   ]
  },
  {
   "attachments": {},
   "cell_type": "markdown",
   "metadata": {},
   "source": [
    "## Apply and Solve\n",
    "\n",
    "Finally, we create a constant donward force, and pass it to the solver."
   ]
  },
  {
   "cell_type": "code",
   "execution_count": null,
   "metadata": {},
   "outputs": [],
   "source": [
    "# force downward\n",
    "f = fem.Constant(domain, np.array([0.0, 5e9], dtype=np.float64))  # N/m^2\n",
    "ds = ufl.Measure(\"ds\", domain=domain, subdomain_data=load_markers)\n",
    "L_form = ufl.dot(f, v) * ds(1)\n",
    "\n",
    "# Solve\n",
    "problem = petsc.LinearProblem(a, L_form, bcs=[bc])\n",
    "u_h = problem.solve()"
   ]
  },
  {
   "attachments": {},
   "cell_type": "markdown",
   "metadata": {},
   "source": [
    "## Visualization\n",
    "\n",
    "We are going to visualize this in two ways. The first by creating a grid of the mesh itself, and then plotting the mesh. Note that we are not using the standard pyplot functions as we are not using that library at all. FEniCSx works incredibly well when using the pyvista library, as it specializes in vector and array plotting, handling 3 dimensional simulation with ease."
   ]
  },
  {
   "cell_type": "code",
   "execution_count": null,
   "metadata": {},
   "outputs": [],
   "source": [
    "pyvista.start_xvfb()\n",
    "plotter = pyvista.Plotter()\n",
    "plotter.open_gif(\"deformation.gif\", fps=3)\n",
    "\n",
    "topology, cell_types, geometry = vtk_mesh(V)\n",
    "grid = pyvista.UnstructuredGrid(topology, cell_types, geometry)\n",
    "\n",
    "dim = 2  # This is a 2D problem\n",
    "n_verts = geometry.shape[0]  # Should be 891\n",
    "disp = u_h.x.array.reshape(n_verts, dim)\n",
    "\n",
    "# Pad to 3D\n",
    "values = np.zeros((n_verts, 3))\n",
    "values[:, :dim] = disp\n",
    "\n",
    "# Assign to grid\n",
    "grid[\"u\"] = values\n",
    "grid.set_active_vectors(\"u\")\n",
    "\n",
    "for factor in np.linspace(0, 1.0, 20):  # 20 frames\n",
    "    warped = grid.warp_by_vector(\"u\", factor=factor)\n",
    "    warped.set_active_vectors(\"u\")\n",
    "    plotter.clear()  # Clear previous mesh\n",
    "    disp_mag = np.linalg.norm(values, axis=1)\n",
    "    warped[\"disp_mag\"] = disp_mag\n",
    "    plotter.add_mesh(warped, scalars=\"disp_mag\", cmap=\"viridis\", show_edges=True)\n",
    "    plotter.write_frame()\n",
    "\n",
    "plotter.close()\n"
   ]
  },
  {
   "attachments": {},
   "cell_type": "markdown",
   "metadata": {},
   "source": [
    "## Results\n",
    "\n",
    "We have a saved `deformation.gif` file saved in the same directory. This shows us the deformation that occurs on our bridge when we apply a force in the NEGATIVE Y direction. It is important to note that this bridge is in 2 Dimensions. If we wanted to work in 3D, we would need to define our elements, mesh, and the rest of the problem in all 3 dimensions, including the Z axis. \n",
    "\n",
    "### Challenge\n",
    "\n",
    "1) Modify this jupyter notebook and create a downward force in the Z direction in 3 dimensions.\n",
    "2) Save the gif and see the effects."
   ]
  }
 ],
 "metadata": {
  "kernelspec": {
   "display_name": "fenicsx-env",
   "language": "python",
   "name": "python3"
  },
  "language_info": {
   "codemirror_mode": {
    "name": "ipython",
    "version": 3
   },
   "file_extension": ".py",
   "mimetype": "text/x-python",
   "name": "python",
   "nbconvert_exporter": "python",
   "pygments_lexer": "ipython3",
   "version": "3.13.2"
  },
  "orig_nbformat": 4
 },
 "nbformat": 4,
 "nbformat_minor": 2
}
