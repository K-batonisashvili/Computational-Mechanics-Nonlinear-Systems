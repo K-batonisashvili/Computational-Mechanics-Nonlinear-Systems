{
 "cells": [
  {
   "attachments": {},
   "cell_type": "markdown",
   "metadata": {},
   "source": [
    "# FEniCSx Tutorial\n",
    "\n",
    "In this tutorial, we will be looking at the FEniCSx computing platform and seeing how it assists with FEA analysis. As we have seen in class, our starting point was going through simple elastic solvers and Newtonian methods. We will similarily begin this tutorial with an implementation of Linear Elasticity in 2 dimensions, or simulating a downward force on an elastic beam. Before getting into the problem, please ensure that FEniCSx and DolfinX are installed on your computer. For assistance with installation, please refer to the `readme.md` for tips on installing the platform, creating a conda environment, activating it (also in your terminal/visual studio session), and running the Jupyter Notebook."
   ]
  },
  {
   "attachments": {},
   "cell_type": "markdown",
   "metadata": {},
   "source": [
    "## Library Imports\n",
    "\n",
    "To ensure that FEniCSx runs properly, please run each Jupyter notebook cell in order. If you run any cells ahead of others, the code might error out. First and foremost, we call our imports, the main ones being Numpy, DolfinX, UFL. \n",
    "\n",
    "Here:\n",
    "\n",
    "- Numpy:        Standard import which is for computations and arrays\n",
    "- DolfinX:      Core FEniCSx library for FEA\n",
    "- UFL:          Domain-specific language usedfor FEA\n"
   ]
  },
  {
   "cell_type": "code",
   "execution_count": 7,
   "metadata": {},
   "outputs": [],
   "source": [
    "import numpy as np\n",
    "from mpi4py import MPI\n",
    "from dolfinx import mesh, fem, plot\n",
    "import ufl\n",
    "import pyvista\n",
    "from dolfinx.fem import petsc\n",
    "from dolfinx.plot import vtk_mesh"
   ]
  },
  {
   "attachments": {},
   "cell_type": "markdown",
   "metadata": {},
   "source": [
    "## Simple Bridge Problem Setup\n",
    "\n",
    "Next we need to initialize our problem variables. As discussed before, we are setting up a simple bridge which is fixed on both ends, and simulating a downward *point* force right in the middle of the beam. Please note that in this example, we are not applying uniform force and instead are testing how a single point heavy object might affect the bridge, like a semi carrying gravel. \n",
    "\n",
    "The steps for this problem will look like this:\n",
    "1) Define mesh\n",
    "2) Create the domain space (label the edges)\n",
    "3) Define material properties"
   ]
  },
  {
   "cell_type": "code",
   "execution_count": 8,
   "metadata": {},
   "outputs": [],
   "source": [
    "# Create 2D rectangular mesh (bridge slab)\n",
    "L, H = 4.0, 0.5\n",
    "nx, ny = 80, 10 # num of elements which are hopefully not above threshold test\n",
    "domain = mesh.create_rectangle(MPI.COMM_WORLD,\n",
    "                               [np.array([0.0, 0.0]), np.array([L, H])],\n",
    "                               [nx, ny],\n",
    "                               cell_type=mesh.CellType.triangle)\n",
    "\n",
    "# function space for displacement\n",
    "V = fem.functionspace(domain, (\"Lagrange\", 1, (domain.geometry.dim, )))\n",
    "\n",
    "# Material properties supposedly resembling steel\n",
    "E = 2e11  # Young’s modulus\n",
    "nu = 0.3  # Poisson\n",
    "mu = E / (2 * (1 + nu))\n",
    "lmbda = E * nu / ((1 + nu) * (1 - 2 * nu))"
   ]
  },
  {
   "attachments": {},
   "cell_type": "markdown",
   "metadata": {},
   "source": [
    "## Stress & Strain Simplicity\n",
    "\n",
    "In this next section we are defining stress and strain functions which are used for simplicity's sake. There are built in gradient functions within ufl which can calculate this, but to make our lives easier and our code more readable (and follow the math that we went over), we explicitly define stress and strain."
   ]
  },
  {
   "cell_type": "code",
   "execution_count": 9,
   "metadata": {},
   "outputs": [],
   "source": [
    "# Defining strain and stress \n",
    "def epsilon(u):\n",
    "    return ufl.sym(ufl.grad(u))\n",
    "\n",
    "def sigma(u):\n",
    "    return lmbda * ufl.tr(epsilon(u)) * ufl.Identity(len(u)) + 2 * mu * epsilon(u)"
   ]
  },
  {
   "attachments": {},
   "cell_type": "markdown",
   "metadata": {},
   "source": [
    "## Boundary Conditions\n",
    "\n",
    "Simple boundary condition applications where we define where the left and right boundaries of the beam are. Left boundary conditions are at 0,0. Right boundary conditions are the length of the beam."
   ]
  },
  {
   "cell_type": "code",
   "execution_count": 10,
   "metadata": {},
   "outputs": [],
   "source": [
    "def left(x): return np.isclose(x[0], 0.0)\n",
    "def right(x): return np.isclose(x[0], L)\n",
    "fixed_dofs = fem.locate_dofs_geometrical(V, lambda x: left(x) | right(x)) # this line locates the left and right edges of our rectangle\n",
    "bc = fem.dirichletbc(np.array([0.0, 0.0], dtype=np.float64), fixed_dofs, V)"
   ]
  },
  {
   "attachments": {},
   "cell_type": "markdown",
   "metadata": {},
   "source": [
    "## UFL Commands\n",
    "\n",
    "The following 3 commands are now called from UFL which are essential in our finite element analysis. We calculate the displacement by calling TrialFunction and passing our function space vector. We get the weak form by calling the TestFunction. Finally, we get the integral of the inner product that we learned about last couple of lectures. These commands are essential steps in our FEA pipeline."
   ]
  },
  {
   "cell_type": "code",
   "execution_count": 11,
   "metadata": {},
   "outputs": [],
   "source": [
    "u = ufl.TestFunction(V)\n",
    "v = fem.Function(V) \n",
    "a = ufl.inner(sigma(u), epsilon(v)) * ufl.dx "
   ]
  },
  {
   "attachments": {},
   "cell_type": "markdown",
   "metadata": {},
   "source": [
    "## Force Application\n",
    "\n",
    "Next we define a function called CenterTopLoad for more ease of use. This function will simply take the length of the beam and half it for the X coordinate, then use the height as the Y coordinate. We apply this load to the negative Y direction of the mesh by calling the meshtags function and passing the domain, topology (negative y), boundary properties, and load.  "
   ]
  },
  {
   "cell_type": "code",
   "execution_count": 12,
   "metadata": {},
   "outputs": [],
   "source": [
    "# Applying load on the top edge of the bridge/beam\n",
    "class CenterTopLoad:\n",
    "    def __init__(self, width=0.1):\n",
    "        self.width = width\n",
    "    def __call__(self, x):\n",
    "        # Load around x = L/2 and top y = H\n",
    "        return np.logical_and(np.isclose(x[1], H),\n",
    "                              np.abs(x[0] - L/2) < self.width)\n",
    "\n",
    "# Load is applied in the negative y-direction\n",
    "# Locate the boundary entities\n",
    "boundary_facets = mesh.locate_entities_boundary(\n",
    "    domain, domain.topology.dim - 1, CenterTopLoad(width=0.1)\n",
    ")\n",
    "\n",
    "# Create a meshtag for the boundary\n",
    "load_markers = mesh.meshtags(domain, domain.topology.dim - 1, boundary_facets, 1)\n"
   ]
  },
  {
   "attachments": {},
   "cell_type": "markdown",
   "metadata": {},
   "source": [
    "## Apply and Solve\n",
    "\n",
    "Finally, we create a constant donward force, and pass it to the solver."
   ]
  },
  {
   "cell_type": "code",
   "execution_count": 13,
   "metadata": {},
   "outputs": [
    {
     "ename": "RuntimeError",
     "evalue": "Cannot create sparsity pattern. Form is not a bilinear.",
     "output_type": "error",
     "traceback": [
      "\u001b[31m---------------------------------------------------------------------------\u001b[39m",
      "\u001b[31mRuntimeError\u001b[39m                              Traceback (most recent call last)",
      "\u001b[36mCell\u001b[39m\u001b[36m \u001b[39m\u001b[32mIn[13]\u001b[39m\u001b[32m, line 7\u001b[39m\n\u001b[32m      4\u001b[39m L_form = ufl.dot(traction, v) * ds(\u001b[32m1\u001b[39m)\n\u001b[32m      6\u001b[39m \u001b[38;5;66;03m# Solve\u001b[39;00m\n\u001b[32m----> \u001b[39m\u001b[32m7\u001b[39m problem = \u001b[43mpetsc\u001b[49m\u001b[43m.\u001b[49m\u001b[43mLinearProblem\u001b[49m\u001b[43m(\u001b[49m\u001b[43ma\u001b[49m\u001b[43m,\u001b[49m\u001b[43m \u001b[49m\u001b[43mL_form\u001b[49m\u001b[43m,\u001b[49m\u001b[43m \u001b[49m\u001b[43mbcs\u001b[49m\u001b[43m=\u001b[49m\u001b[43m[\u001b[49m\u001b[43mbc\u001b[49m\u001b[43m]\u001b[49m\u001b[43m)\u001b[49m\n\u001b[32m      8\u001b[39m u_h = problem.solve()\n",
      "\u001b[36mFile \u001b[39m\u001b[32m/projectnb/me700/students/kbat6359/.conda/envs/fenicsx-env/lib/python3.13/site-packages/dolfinx/fem/petsc.py:788\u001b[39m, in \u001b[36mLinearProblem.__init__\u001b[39m\u001b[34m(self, a, L, bcs, u, petsc_options, form_compiler_options, jit_options)\u001b[39m\n\u001b[32m    754\u001b[39m \u001b[38;5;250m\u001b[39m\u001b[33;03m\"\"\"Initialize solver for a linear variational problem.\u001b[39;00m\n\u001b[32m    755\u001b[39m \n\u001b[32m    756\u001b[39m \u001b[33;03mArgs:\u001b[39;00m\n\u001b[32m   (...)\u001b[39m\u001b[32m    780\u001b[39m \u001b[33;03m                                                               \"mumps\"})\u001b[39;00m\n\u001b[32m    781\u001b[39m \u001b[33;03m\"\"\"\u001b[39;00m\n\u001b[32m    782\u001b[39m \u001b[38;5;28mself\u001b[39m._a = _create_form(\n\u001b[32m    783\u001b[39m     a,\n\u001b[32m    784\u001b[39m     dtype=PETSc.ScalarType,\n\u001b[32m    785\u001b[39m     form_compiler_options=form_compiler_options,\n\u001b[32m    786\u001b[39m     jit_options=jit_options,\n\u001b[32m    787\u001b[39m )\n\u001b[32m--> \u001b[39m\u001b[32m788\u001b[39m \u001b[38;5;28mself\u001b[39m._A = \u001b[43mcreate_matrix\u001b[49m\u001b[43m(\u001b[49m\u001b[38;5;28;43mself\u001b[39;49m\u001b[43m.\u001b[49m\u001b[43m_a\u001b[49m\u001b[43m)\u001b[49m\n\u001b[32m    789\u001b[39m \u001b[38;5;28mself\u001b[39m._L = _create_form(\n\u001b[32m    790\u001b[39m     L,\n\u001b[32m    791\u001b[39m     dtype=PETSc.ScalarType,\n\u001b[32m    792\u001b[39m     form_compiler_options=form_compiler_options,\n\u001b[32m    793\u001b[39m     jit_options=jit_options,\n\u001b[32m    794\u001b[39m )\n\u001b[32m    795\u001b[39m \u001b[38;5;28mself\u001b[39m._b = create_vector(\u001b[38;5;28mself\u001b[39m._L)\n",
      "\u001b[36mFile \u001b[39m\u001b[32m/projectnb/me700/students/kbat6359/.conda/envs/fenicsx-env/lib/python3.13/site-packages/dolfinx/fem/petsc.py:176\u001b[39m, in \u001b[36mcreate_matrix\u001b[39m\u001b[34m(a, mat_type)\u001b[39m\n\u001b[32m    160\u001b[39m \u001b[38;5;250m\u001b[39m\u001b[33;03m\"\"\"Create a PETSc matrix that is compatible with a bilinear form.\u001b[39;00m\n\u001b[32m    161\u001b[39m \n\u001b[32m    162\u001b[39m \u001b[33;03mNote:\u001b[39;00m\n\u001b[32m   (...)\u001b[39m\u001b[32m    173\u001b[39m \u001b[33;03m    A PETSc matrix with a layout that is compatible with ``a``.\u001b[39;00m\n\u001b[32m    174\u001b[39m \u001b[33;03m\"\"\"\u001b[39;00m\n\u001b[32m    175\u001b[39m \u001b[38;5;28;01mif\u001b[39;00m mat_type \u001b[38;5;129;01mis\u001b[39;00m \u001b[38;5;28;01mNone\u001b[39;00m:\n\u001b[32m--> \u001b[39m\u001b[32m176\u001b[39m     \u001b[38;5;28;01mreturn\u001b[39;00m \u001b[43m_cpp\u001b[49m\u001b[43m.\u001b[49m\u001b[43mfem\u001b[49m\u001b[43m.\u001b[49m\u001b[43mpetsc\u001b[49m\u001b[43m.\u001b[49m\u001b[43mcreate_matrix\u001b[49m\u001b[43m(\u001b[49m\u001b[43ma\u001b[49m\u001b[43m.\u001b[49m\u001b[43m_cpp_object\u001b[49m\u001b[43m)\u001b[49m\n\u001b[32m    177\u001b[39m \u001b[38;5;28;01melse\u001b[39;00m:\n\u001b[32m    178\u001b[39m     \u001b[38;5;28;01mreturn\u001b[39;00m _cpp.fem.petsc.create_matrix(a._cpp_object, mat_type)\n",
      "\u001b[31mRuntimeError\u001b[39m: Cannot create sparsity pattern. Form is not a bilinear."
     ]
    }
   ],
   "source": [
    "# Traction force downward\n",
    "traction = fem.Constant(domain, np.array([0.0, -5e5], dtype=np.float64))  # N/m^2\n",
    "ds = ufl.Measure(\"ds\", domain=domain, subdomain_data=load_markers)\n",
    "L_form = ufl.dot(traction, v) * ds(1)\n",
    "\n",
    "# Solve\n",
    "problem = petsc.LinearProblem(a, L_form, bcs=[bc])\n",
    "u_h = problem.solve()"
   ]
  },
  {
   "attachments": {},
   "cell_type": "markdown",
   "metadata": {},
   "source": [
    "## Visualization\n",
    "\n",
    "We are going to visualize this in two ways. The first by creating a grid of the mesh itself, and then plotting the mesh. Note that we are not using the standard pyplot functions as we are not using that library at all. FEniCSx works incredibly well when using the pyvista library, as it specializes in vector and array plotting, handling 3 dimensional simulation with ease."
   ]
  },
  {
   "cell_type": "code",
   "execution_count": null,
   "metadata": {},
   "outputs": [],
   "source": [
    "# Create plot mesh\n",
    "vtk_data = vtk_mesh(V)  # Adjust to capture all returned values\n",
    "topology, cell_types, coordinates = vtk_mesh(u.function_space)\n",
    "\n",
    "# Create the PyVista grid\n",
    "grid = pyvista.UnstructuredGrid(topology, cell_types, coordinates)\n",
    "grid[\"displacement\"] = u_h.x.array.reshape((-1, 2))\n",
    "\n",
    "# Plot with displacement vectors\n",
    "plotter = pyvista.Plotter()\n",
    "plotter.add_mesh(grid, show_edges=True, scalars=None)\n",
    "plotter.add_arrows(grid.points, grid[\"displacement\"], mag=100)  # scale to exaggerate\n",
    "plotter.show()"
   ]
  }
 ],
 "metadata": {
  "kernelspec": {
   "display_name": "fenicsx-env",
   "language": "python",
   "name": "python3"
  },
  "language_info": {
   "codemirror_mode": {
    "name": "ipython",
    "version": 3
   },
   "file_extension": ".py",
   "mimetype": "text/x-python",
   "name": "python",
   "nbconvert_exporter": "python",
   "pygments_lexer": "ipython3",
   "version": "3.13.2"
  },
  "orig_nbformat": 4
 },
 "nbformat": 4,
 "nbformat_minor": 2
}
