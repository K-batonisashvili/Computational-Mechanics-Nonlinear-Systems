{
 "cells": [
  {
   "cell_type": "markdown",
   "metadata": {},
   "source": [
    "# Tutorial\n",
    "This Jupyter notebook is meant to serve as a guide for a Newton-based solution to systems of nonlinear equations. To use this notebook, please run each cell individually, and you will encounter the examples and solutions as you keep going through. If you have any questions on how to get the code up and running, please refer to the README.md \n",
    "\n",
    "It is essential that the first python block in this notebook is ran first, the one that imports numpy and newtonian, otherwise the rest of the cells will have difficulty running."
   ]
  },
  {
   "cell_type": "code",
   "execution_count": null,
   "metadata": {},
   "outputs": [],
   "source": [
    "'''\n",
    "This code block imports the essential/main newton method and numpy package.\n",
    "'''\n",
    "from newton_method import newtonian\n",
    "import numpy as np"
   ]
  },
  {
   "cell_type": "markdown",
   "metadata": {},
   "source": [
    "## Explaining the Newtonian Method\n",
    "When working with the newtonian method, we need to make sure we have the proper format when passing variables to it.\\\n",
    "The main method is called newtonian with the following variables\n",
    "**newtonian(eq_functions, jacobian, lower_bound, upper_bound, TOL=1e-8, ITER=100)**\n",
    "\n",
    "The passed parameters have the following purpose:\\\n",
    "&emsp;eq_functions:     system of nonlinear equations that need to be passed as an array. Passed as a 2x1 vector.\\\n",
    "&emsp;jacobian:         The partial derivatives of those nonlinear equations. Passed as a 2x2 matrix.\\\n",
    "&emsp;lower_bound:      Lower limit or bound to be passed to those functions. Passed as a regular number.\\\n",
    "&emsp;upper_bound:      Upper limit or bound to be passed to those functions. Passed as a regular number.\\\n",
    "&emsp;TOL:              Tolerance used for checking if we are approaching our desired solution/roots. The default tolerance is set to 1e-8.\\\n",
    "&emsp;ITER:             Max number of iterations to be used for locating the roots. Passed as an integer."
   ]
  },
  {
   "cell_type": "markdown",
   "metadata": {},
   "source": [
    "### Example 1\n",
    "\n",
    "Using a very basic example, x^2 - 4 = 0 and y^2 - 9 = 0. The roots of the equation are -2, 3 and 2, 3. But this depends on where we set out bounds.\n",
    "Running the block below will show us how if we set our bounds to be [-5, 5], the roots become -2, 3. However if we change the bounds to [1, 5], the roots become 2 and 3."
   ]
  },
  {
   "cell_type": "code",
   "execution_count": null,
   "metadata": {},
   "outputs": [
    {
     "data": {
      "text/plain": [
       "The roots to the equations are:  [-2.  3.]\n"
      ]
     },
     "metadata": {},
     "output_type": "display_data"
    }
   ],
   "source": [
    "'''\n",
    "This code block uses the newtonian method to find the roots of x^2 - 4 = 0 and y^2 - 9 = 0\n",
    "'''\n",
    "r1 = lambda x: np.array([x[0]**2 - 4, x[1]**2 - 9])\n",
    "j1 = lambda x: np.array([[2*x[0], 0], [0, 2*x[1]]])\n",
    "lower_bound = -5\n",
    "upper_bound = 5\n",
    "solution = newtonian(r1, j1, lower_bound, upper_bound)\n",
    "print(\"The roots to the equations are: \", solution)"
   ]
  },
  {
   "cell_type": "markdown",
   "metadata": {},
   "source": [
    "### Example 2\n",
    "\n",
    "Moving on to another simple example, we have slight modifications where now our equations have x and y in both sets of equations.\\\n",
    "Where the first equation is 2x + y = 1 and the second x - y = 0.\\\n",
    "The known roots for these equations are 1/3, 1/3. In this scenario, changing the bounds from [-5, 5] to [0,5] does not change much."
   ]
  },
  {
   "cell_type": "code",
   "execution_count": null,
   "metadata": {},
   "outputs": [
    {
     "data": {
      "text/plain": [
       "The roots to the equations are:  [0.33333333 0.33333333]\n"
      ]
     },
     "metadata": {},
     "output_type": "display_data"
    }
   ],
   "source": [
    "'''\n",
    "This code block uses the newtonian method to find the roots of 2x + y = 1 and x - y = 0\n",
    "'''\n",
    "r2 = lambda x: np.array([2*x[0] + x[1] - 1, x[0] - x[1]])\n",
    "j2 = lambda x: np.array([[2, 1], [1, -1]])\n",
    "lower_bound = -5\n",
    "upper_bound = 13\n",
    "solution = newtonian(r2, j2, lower_bound, upper_bound)\n",
    "print(\"The roots to the equations are: \", solution)"
   ]
  },
  {
   "cell_type": "markdown",
   "metadata": {},
   "source": [
    "### Example 3\n",
    "\n",
    "This example is a little bit more involve since we no longer have comfortable or \"good\" roots, instead they have many decimals.\\\n",
    "Regardless of how specific the solution is, using our Newtonian solver, we see that the roots end up being close to 2.095 and -1.380"
   ]
  },
  {
   "cell_type": "code",
   "execution_count": null,
   "metadata": {},
   "outputs": [
    {
     "data": {
      "text/plain": [
       "The roots to the equations are:  [ 2.09455148 -1.38037985]\n"
      ]
     },
     "metadata": {},
     "output_type": "display_data"
    }
   ],
   "source": [
    "'''\n",
    "This code block uses the newtonian method to find the roots of x^3 - 2x - 5 = 0 and y^2 + x - 4 = 0.\n",
    "'''\n",
    "r3 = lambda x: np.array([x[0]**3 - 2*x[0] - 5, x[1]**2 + x[0] - 4])\n",
    "j3 = lambda x: np.array([[3*x[0]**2 - 2, 0],[1, 2*x[1]]])\n",
    "lower_bound = -5\n",
    "upper_bound = 5\n",
    "solution = newtonian(r3, j3, lower_bound, upper_bound)\n",
    "print(\"The roots to the equations are: \", solution)"
   ]
  },
  {
   "cell_type": "markdown",
   "metadata": {},
   "source": [
    "### Example 4 - Mechanics\n",
    "\n",
    "The fourth example usage of the Newtonian method is solving real world mechanics problems.\\\n",
    "This specific example is similar to what we saw in class where instead of a spring system, we are working with a pendulum.\\\n",
    "The two equations that we will be working with that deal with force are the following:\\\n",
    "F1​(θ1​,θ2​)=L1​sin(θ1​)+L2​sin(θ2​)−h=0\\\n",
    "F2​(θ1​,θ2​)=L1​cos(θ1​)+L2​cos(θ2​)−d=0​\\\n",
    "Where L1 and L2 are pendulum arm lengths, h and d are displacements.\\\n",
    "For this specific example, we are solving for theta1 and theta2.\\\n",
    "The answers for this will wildly vary as the initial guess is entirely what will determine the solution to this. This is why simulations such as this are extremely important, since in nonlinear systems of equations, the initial condition is what determines the entire outcome of the system. "
   ]
  },
  {
   "cell_type": "code",
   "execution_count": null,
   "metadata": {},
   "outputs": [
    {
     "data": {
      "text/plain": [
       "The roots to the equations are:  [0.60877056 2.01211881]\n"
      ]
     },
     "metadata": {},
     "output_type": "display_data"
    }
   ],
   "source": [
    "'''\n",
    "This code block uses the newtonian method to find the roots of L1 * sin(theta1) + L2 * sin(theta2) - h = 0 and L1 * cos(theta1) + L2 * cos(theta2) - d = 0\n",
    "'''\n",
    "L1, L2 = 2.0, 1.5  # pendulum arm lengths\n",
    "h, d = 2.5, 1.0    # displacement\n",
    "\n",
    "r4 = lambda x: np.array([\n",
    "    L1 * np.sin(x[0]) + L2 * np.sin(x[1]) - h,\n",
    "    L1 * np.cos(x[0]) + L2 * np.cos(x[1]) - d\n",
    "])\n",
    "j4 = lambda x: np.array([\n",
    "    [L1 * np.cos(x[0]), L2 * np.cos(x[1])],\n",
    "    [-L1 * np.sin(x[0]), -L2 * np.sin(x[1])]\n",
    "])\n",
    "lower_bound = -0.5\n",
    "upper_bound = 0.5\n",
    "solution = newtonian(r4, j4, lower_bound, upper_bound)\n",
    "print(\"The roots to the equations are: \", solution)"
   ]
  },
  {
   "cell_type": "markdown",
   "metadata": {},
   "source": [
    "### Example 5 - Mechanics\n",
    "\n",
    "The fifth and final mechanics problem is very similar to what we did in class with the spring displacement problem.\\\n",
    "We are presented a system with two masses connected to two walls and also each other. These are the equations:\\\n",
    "R1​(x1​,x2​)=k1​(x1​−x0​)+k2​(x1​−x2​)\\\n",
    "R2(x1,x2)=k2(x2−x1)+k3(x2−x0)\\\n",
    "Where x1 and x2 are displacement of the mass.\\\n",
    "Where k1, k2, and k3 are spring constants.\\\n",
    "Where x0 is the equilibrium point.\\\n",
    "\n",
    "To find the equilibrium points, we plug those equations into our newtonian solver, give the appropriate jacobian, and then we are good to go!"
   ]
  },
  {
   "cell_type": "code",
   "execution_count": null,
   "metadata": {},
   "outputs": [
    {
     "data": {
      "text/plain": [
       "The roots to the equations are:  [0. 0.]\n"
      ]
     },
     "metadata": {},
     "output_type": "display_data"
    }
   ],
   "source": [
    "'''\n",
    "This code block uses the newtonian method to find the roots of k1 * (x1 - x0) + k2 * (x1 - x2) = 0 and k2 * (x2 - x1) + k3 * (x2 - x0) = 0\n",
    "'''\n",
    "k1, k2, k3 = 10, 15, 20  # Spring constants\n",
    "x0 = 0  # Equilibrium\n",
    "\n",
    "r5 = lambda x: np.array([\n",
    "    k1 * (x[0] - x0) + k2 * (x[0] - x[1]),\n",
    "    k2 * (x[1] - x[0]) + k3 * (x[1] - x0)\n",
    "])\n",
    "j5 = lambda x: np.array([\n",
    "    [k1 + k2, -k2],\n",
    "    [-k2, k2 + k3]\n",
    "])\n",
    "lower_bound = -12\n",
    "upper_bound = 73\n",
    "solution = newtonian(r5, j5, lower_bound, upper_bound)\n",
    "print(\"The roots to the equations are: \", solution)"
   ]
  }
 ],
 "metadata": {
  "kernelspec": {
   "display_name": "base",
   "language": "python",
   "name": "python3"
  },
  "language_info": {
   "codemirror_mode": {
    "name": "ipython",
    "version": 3
   },
   "file_extension": ".py",
   "mimetype": "text/x-python",
   "name": "python",
   "nbconvert_exporter": "python",
   "pygments_lexer": "ipython3",
   "version": "3.12.8"
  }
 },
 "nbformat": 4,
 "nbformat_minor": 2
}
