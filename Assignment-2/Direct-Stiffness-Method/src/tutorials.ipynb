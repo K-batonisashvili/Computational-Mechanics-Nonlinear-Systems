{
 "cells": [
  {
   "cell_type": "markdown",
   "metadata": {},
   "source": [
    "# Tutorial\n",
    "This Jupyter notebook is meant to serve as a guide for demonstrating how to use the Direct-Stiffness Method and construct frames with their relavent elements and nodes. To use this notebook, please run each cell individually, and you will encounter the examples and solutions as you keep going through. If you have any questions on how to get the code up and running, please refer to the README.md \n",
    "\n",
    "It is essential that the first python block in this notebook is ran first, otherwise the rest of the cells will have difficulty running."
   ]
  },
  {
   "cell_type": "code",
   "execution_count": 5,
   "metadata": {},
   "outputs": [],
   "source": [
    "'''\n",
    "This code block imports the essential/main Direct-Stiffness module, matplotlip and numpy.\n",
    "'''\n",
    "import numpy as np\n",
    "import matplotlib.pyplot as plt\n",
    "from Direct_Stiffness import Nodes, Elements, Frame\n"
   ]
  },
  {
   "cell_type": "markdown",
   "metadata": {},
   "source": [
    "## Explaining the Direct Stiffness Matrix\n",
    "\n",
    "The Direct Stiffness Method is used for the analysis of frames and different structures. We use the direct stiffness matrix in analyzing displacements, forces, and moments around nodes and elements. This notebook contains a tutorial on using this method to assemble the global stiffness matrix and use it to solve for displacements and reactions.\n",
    "\n",
    "### Example: Simple Beam Structure\n",
    "\n",
    "For example 1, we will analyze a simple beam structure which consists of two nodes and one element. The breakdown of the code is fairly straightforward. We first define our nodes with their given properties, we connect the nodes through defining elements with more properties, and finally we assemble them together in the frame class. Once the entire frame is assembled, we run the calculations method which runs through calculating the global stifness matrix, local matrices, and the way the nodes are affected. The results provide us with analysis of the forces and displacements.\n",
    "\n",
    "**Step 1: Define Nodes**\n",
    "\n",
    "We start by defining the nodes of the structure. Each node has coordinates (x, y, z) and can have boundary conditions (pinned, fixed, free) applied to it.\n",
    "\n",
    "The code below is an example of 2 nodes being created 1 meter apart, along with boundary constraints set for both where one cannot move, but the second can.\n"
   ]
  },
  {
   "cell_type": "code",
   "execution_count": 6,
   "metadata": {},
   "outputs": [],
   "source": [
    "from Direct_Stiffness import Nodes, Elements, Frame\n",
    "\n",
    "# Define Nodes\n",
    "node1 = Nodes(0.0, 0.0, 0.0)\n",
    "node2 = Nodes(1.0, 0.0, 0.0)\n",
    "\n",
    "# Apply boundary conditions\n",
    "node1.set_boundary_constraints([True, True, True, True, True, True])  # Node 1 fully constrained\n",
    "node2.set_boundary_constraints([False, True, True, False, False, False])  # Node 2 constrained in Y, Z\n",
    "\n",
    "node2.set_nodal_load(1000, 0, 0, 0, 0, 0)\n"
   ]
  },
  {
   "cell_type": "markdown",
   "metadata": {},
   "source": [
    "**Step 2: Define Elements**\n",
    "\n",
    "Next, we define the elements of the structure. Each element connects two nodes and has material properties such as Young's modulus, Poisson's ratio, and cross-sectional area."
   ]
  },
  {
   "cell_type": "code",
   "execution_count": 7,
   "metadata": {},
   "outputs": [],
   "source": [
    "# Define Elements\n",
    "E = 200e9  # Young's Modulus in Pascals\n",
    "v = 0.3  # Poisson's Ratio\n",
    "A = 0.01  # Cross-sectional Area in square meters\n",
    "I_z = 0.01  # Moment of Inertia about z-axis in meters^4\n",
    "I_y = 0.01  # Moment of Inertia about y-axis in meters^4\n",
    "I_p = 0.01  # Polar Moment of Inertia in meters^4\n",
    "J = 0.01  # Torsional Constant in meters^4\n",
    "local_z_axis = [0, 0, 1]  # Local z-axis direction\n",
    "\n",
    "element = Elements(node1, node2, E, v, A, I_z, I_y, I_p, J, local_z_axis)"
   ]
  },
  {
   "cell_type": "markdown",
   "metadata": {},
   "source": [
    "**Step 3: Create Frame and Perform Analysis**\n",
    "\n",
    "We create a frame by combining the nodes and elements. We then perform the analysis to compute the global stiffness matrix, displacements, and reactions."
   ]
  },
  {
   "cell_type": "code",
   "execution_count": 8,
   "metadata": {},
   "outputs": [
    {
     "name": "stdout",
     "output_type": "stream",
     "text": [
      "\n",
      "Nodal Displacements & Rotations:\n",
      "Node 0: u=0.000000, v=0.000000, w=0.000000, θx=0.000000, θy=0.000000, θz=0.000000\n",
      "Node 1: u=0.000000, v=0.000000, w=0.000000, θx=0.000000, θy=0.000000, θz=0.000000\n",
      "\n",
      "Reaction Forces & Moments at Supports:\n",
      "Node 0: Fx=0.00, Fy=0.00, Fz=0.00, Mx=0.00, My=0.00, Mz=0.00\n",
      "Node 1: Fx=0.00, Fy=0.00, Fz=0.00, Mx=0.00, My=0.00, Mz=0.00\n"
     ]
    }
   ],
   "source": [
    "# Create Frame\n",
    "frame = Frame([node1, node2], [element])\n",
    "\n",
    "# Perform Analysis\n",
    "K = frame.global_stiffness_matrix()\n",
    "F = frame.global_force_matrix()\n",
    "U = frame.get_displacements(F, K)\n",
    "R = frame.get_reactions(U, K)\n",
    "\n",
    "# Output Results\n",
    "print(\"\\nNodal Displacements & Rotations:\")\n",
    "for i, node in enumerate(frame.nodes):\n",
    "    print(f\"Node {i}: u={U[i * 6]:.6f}, v={U[i * 6 + 1]:.6f}, w={U[i * 6 + 2]:.6f}, \"\n",
    "          f\"θx={U[i * 6 + 3]:.6f}, θy={U[i * 6 + 4]:.6f}, θz={U[i * 6 + 5]:.6f}\")\n",
    "\n",
    "print(\"\\nReaction Forces & Moments at Supports:\")\n",
    "for i, node in enumerate(frame.nodes):\n",
    "    if any(node.boundary_conditions):  # Only print for constrained nodes\n",
    "        print(f\"Node {i}: Fx={R[i * 6]:.2f}, Fy={R[i * 6 + 1]:.2f}, Fz={R[i * 6 + 2]:.2f}, \"\n",
    "              f\"Mx={R[i * 6 + 3]:.2f}, My={R[i * 6 + 4]:.2f}, Mz={R[i * 6 + 5]:.2f}\")\n",
    "\n",
    "# Plot Original Shape\n",
    "# frame.plot_original_shape()\n",
    "# plt.title(\"Original Shape\")\n",
    "# plt.show()\n",
    "\n",
    "# # Plot Deformed Shape\n",
    "# frame.plot_deformed_shape(U, 10)\n",
    "# plt.title(\"Deformed Shape\")\n",
    "# plt.show()\n"
   ]
  },
  {
   "cell_type": "markdown",
   "metadata": {},
   "source": [
    "### Results\n",
    "\n",
    "We see the results printed in the notebook after running the final code.\n",
    "\n",
    "## Optional\n",
    "\n",
    "Optionally, you are able to input manual commands/variables through a defined function which prints everything out to the terminal. The `manual_input` function in `Direct_Stiffness` allows users to manually input values for nodes, elements, and boundary conditions through the terminal. This function provides a way to interactively define the structure and its properties without hardcoding them into the script.\n",
    "\n",
    "### How It Works\n",
    "\n",
    "1. **Prompt for Number of Nodes**: The function starts by asking the user to input the number of nodes in the structure.\n",
    "\n",
    "2. **Define Nodes**: For each node, the user is prompted to enter the coordinates (x, y, z). The nodes are then created and stored in a list.\n",
    "\n",
    "3. **Define Elements**: The function then asks the user to define the elements by specifying the nodes they connect and their material properties such as Young's modulus, Poisson's ratio, cross-sectional area, and moments of inertia.\n",
    "\n",
    "4. **Set Boundary Conditions**: For each node, the user is prompted to enter the boundary conditions, indicating whether each degree of freedom (DOF) is constrained or not.\n",
    "\n",
    "5. **Return Nodes and Elements**: Finally, the function returns the lists of nodes and elements, which can be used to create the frame and perform the analysis.\n",
    "\n",
    "\n",
    "Finally, all you have to do to run the `manual_input` function is to un-comment `main` and `if __name__ == \"__main__\"`. Once you do that, simply run the direct_stifness.py file directly and you will have control over manually entering input.\n"
   ]
  }
 ],
 "metadata": {
  "kernelspec": {
   "display_name": "ME700DefaultEnv",
   "language": "python",
   "name": "python3"
  },
  "language_info": {
   "codemirror_mode": {
    "name": "ipython",
    "version": 3
   },
   "file_extension": ".py",
   "mimetype": "text/x-python",
   "name": "python",
   "nbconvert_exporter": "python",
   "pygments_lexer": "ipython3",
   "version": "3.12.0"
  }
 },
 "nbformat": 4,
 "nbformat_minor": 2
}
