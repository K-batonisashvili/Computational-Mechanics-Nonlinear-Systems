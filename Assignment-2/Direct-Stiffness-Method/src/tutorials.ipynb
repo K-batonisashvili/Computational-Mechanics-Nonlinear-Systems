{
 "cells": [
  {
   "cell_type": "markdown",
   "metadata": {},
   "source": [
    "# Tutorial\n",
    "This Jupyter notebook is meant to serve as a guide for demonstrating how to use the Direct-Stiffness Method and construct frames with their relavent elements and nodes. To use this notebook, please run each cell individually, and you will encounter the examples and solutions as you keep going through. If you have any questions on how to get the code up and running, please refer to the README.md \n",
    "\n",
    "It is essential that the first python block in this notebook is ran first, otherwise the rest of the cells will have difficulty running."
   ]
  },
  {
   "cell_type": "code",
   "execution_count": 1,
   "metadata": {},
   "outputs": [],
   "source": [
    "'''\n",
    "This code block imports the essential/main ElastoPlastic module, matplotlip and numpy.\n",
    "'''\n",
    "import numpy as np\n",
    "import matplotlib.pyplot as plt\n",
    "from Direct_Stiffness import *\n"
   ]
  },
  {
   "cell_type": "markdown",
   "metadata": {},
   "source": [
    "## Explaining Elasto-Plasticity\n",
    "\n",
    "Elasto-plasticity describes how materials behave when subjected to loads beyond their elastic limit. Initially, a material deforms elastically (returns to its original shape when unloaded). Once stress exceeds the yield stress, plastic deformation occurs, meaning some deformation remains even after unloading.\n",
    "\n",
    "**class ElastoPlasticModel**\n",
    "\n",
    "The passed parameters have the following purpose:\\\n",
    "\n",
    "- **`E` (Elastic modulus)**  \n",
    "  - Represents the stiffness of the material.  \n",
    "  - A higher value means the material resists deformation more.  \n",
    "\n",
    "- **`Y_initial` (Initial yield stress)**  \n",
    "  - The stress level at which plastic deformation begins.  \n",
    "  - Below this value, the material behaves elastically.  \n",
    "\n",
    "- **`H_iso` (Isotropic hardening modulus)**  \n",
    "  - Controls how much the yield stress increases with plastic strain.  \n",
    "  - A higher value means the material strengthens more as it undergoes plastic deformation.  \n",
    "\n",
    "- **`H_kin` (Kinematic hardening modulus)**  \n",
    "  - Determines how much the yield surface shifts with plastic strain.   \n"
   ]
  },
  {
   "cell_type": "markdown",
   "metadata": {},
   "source": [
    "### Example 1\n",
    "\n",
    "This first example is a simple test of elasticity. We apply small strain increments to the material while keeping the yield stress high enough that plastic deformation never occurs. If the model is working correctly, the stress should increase linearly with strain, following Hooke’s Law."
   ]
  },
  {
   "cell_type": "code",
   "execution_count": null,
   "metadata": {},
   "outputs": [],
   "source": [
    "'''\n",
    "This example applies small strain increments to test if the material follows Hooke’s Law (Elastic Region).\n",
    "'''\n",
    "\n",
    "# Initialize model with no hardening (purely elastic)\n",
    "model = ElastoPlasticModel(E=1000, Y_initial=10, H_iso=0, H_kin=0)\n",
    "\n",
    "# Apply small strain increments (elastic range)\n",
    "strain_increments = np.linspace(0, 0.005, 10)\n",
    "stress_values = [model.update_step(eps) for eps in strain_increments]\n",
    "\n",
    "# Plot results\n",
    "plt.plot(strain_increments, stress_values, label=\"Elastic Response\")\n",
    "plt.xlabel(\"Strain\")\n",
    "plt.ylabel(\"Stress\")\n",
    "plt.title(\"Purely Elastic Stress-Strain Response\")\n",
    "plt.legend()\n",
    "plt.grid()\n",
    "plt.show()"
   ]
  },
  {
   "cell_type": "markdown",
   "metadata": {},
   "source": [
    "### Example 2\n",
    "\n",
    "Here, we push the material past its yield limit by applying a large strain increment. Initially, the stress should increase linearly (elastic response), but once the yield stress is reached, the material starts deforming plastically. After this point, stress no longer increases as steeply, indicating permanent deformation. "
   ]
  },
  {
   "cell_type": "code",
   "execution_count": null,
   "metadata": {},
   "outputs": [],
   "source": [
    "# Initialize model with no hardening\n",
    "model = ElastoPlasticModel(E=1000, Y_initial=10, H_iso=0, H_kin=0)\n",
    "\n",
    "# Apply large strain increment to induce plasticity\n",
    "strain_increments = np.linspace(0, 0.05, 10)\n",
    "stress_values = [model.update_step(eps) for eps in strain_increments]\n",
    "\n",
    "# Plot results\n",
    "plt.plot(strain_increments, stress_values, label=\"Yielding Behavior\")\n",
    "plt.xlabel(\"Strain\")\n",
    "plt.ylabel(\"Stress\")\n",
    "plt.title(\"Yielding and Plastic Deformation\")\n",
    "plt.legend()\n",
    "plt.grid()\n",
    "plt.show()\n"
   ]
  },
  {
   "cell_type": "markdown",
   "metadata": {},
   "source": [
    "### Example 3 - Isotropic\n",
    "\n",
    "This example introduces isotropic hardening, meaning the yield stress increases as plastic deformation progresses. We apply a series of strain increments, causing plastic deformation. As the material undergoes plastic strain, the yield surface expands, making it harder to yield in future loading steps. "
   ]
  },
  {
   "cell_type": "code",
   "execution_count": null,
   "metadata": {},
   "outputs": [],
   "source": [
    "# Initialize model with isotropic hardening\n",
    "model = ElastoPlasticModel(E=1000, Y_initial=10, H_iso=50, H_kin=0)\n",
    "\n",
    "# Apply strain increments to induce plastic deformation\n",
    "strain_increments = np.linspace(0, 0.04, 20)\n",
    "stress_values = [model.update_step(eps) for eps in strain_increments]\n",
    "\n",
    "# Plot results\n",
    "plt.plot(strain_increments, stress_values, label=\"Isotropic Hardening\")\n",
    "plt.xlabel(\"Strain\")\n",
    "plt.ylabel(\"Stress\")\n",
    "plt.title(\"Isotropic Hardening Effect on Stress-Strain Response\")\n",
    "plt.legend()\n",
    "plt.grid()\n",
    "plt.show()\n"
   ]
  },
  {
   "cell_type": "markdown",
   "metadata": {},
   "source": [
    "### Example 4 - Kinematic\n",
    "\n",
    "Kinematic hardening models the shift of the yield surface rather than its expansion. We apply strain in one direction, causing plastic deformation, and then reverse the strain direction. "
   ]
  },
  {
   "cell_type": "code",
   "execution_count": null,
   "metadata": {},
   "outputs": [],
   "source": [
    "# Initialize model with kinematic hardening\n",
    "model = ElastoPlasticModel(E=1000, Y_initial=10, H_iso=0, H_kin=50)\n",
    "\n",
    "# Apply forward strain increments (plastic deformation)\n",
    "strain_increments = np.linspace(0, 0.03, 15)\n",
    "stress_values = [model.update_step(eps) for eps in strain_increments]\n",
    "\n",
    "# Apply reverse strain increments (reversal to test kinematic hardening)\n",
    "reverse_strain = np.linspace(0.03, -0.01, 15)\n",
    "reverse_stress_values = [model.update_step(eps) for eps in reverse_strain]\n",
    "\n",
    "# Combine data\n",
    "total_strain = np.concatenate((strain_increments, reverse_strain))\n",
    "total_stress = np.concatenate((stress_values, reverse_stress_values))\n",
    "\n",
    "# Plot results\n",
    "plt.plot(total_strain, total_stress, label=\"Kinematic Hardening with Reversal\")\n",
    "plt.xlabel(\"Strain\")\n",
    "plt.ylabel(\"Stress\")\n",
    "plt.title(\"Kinematic Hardening\")\n",
    "plt.legend()\n",
    "plt.grid()\n",
    "plt.show()\n"
   ]
  },
  {
   "cell_type": "markdown",
   "metadata": {},
   "source": [
    "### Example 5 - Both\n",
    "\n",
    "Finally, most materials don’t experience just one type of hardening. This example combines both isotropic and kinematic hardening to simulate a more realistic material response. "
   ]
  },
  {
   "cell_type": "code",
   "execution_count": null,
   "metadata": {},
   "outputs": [],
   "source": [
    "# Initialize model with both isotropic and kinematic hardening\n",
    "model = ElastoPlasticModel(E=1000, Y_initial=10, H_iso=30, H_kin=50)\n",
    "\n",
    "# Apply cyclic loading\n",
    "strain_increments = np.linspace(0, 0.04, 15)\n",
    "stress_values = [model.update_step(eps) for eps in strain_increments]\n",
    "\n",
    "reverse_strain = np.linspace(0.04, -0.02, 15)\n",
    "reverse_stress_values = [model.update_step(eps) for eps in reverse_strain]\n",
    "\n",
    "# Combine data\n",
    "total_strain = np.concatenate((strain_increments, reverse_strain))\n",
    "total_stress = np.concatenate((stress_values, reverse_stress_values))\n",
    "\n",
    "# Plot results\n",
    "plt.plot(total_strain, total_stress, label=\"Combined Hardening\")\n",
    "plt.xlabel(\"Strain\")\n",
    "plt.ylabel(\"Stress\")\n",
    "plt.title(\"Combined Isotropic and Kinematic Hardening\")\n",
    "plt.legend()\n",
    "plt.grid()\n",
    "plt.show()\n"
   ]
  }
 ],
 "metadata": {
  "kernelspec": {
   "display_name": "ME700DefaultEnv",
   "language": "python",
   "name": "python3"
  },
  "language_info": {
   "codemirror_mode": {
    "name": "ipython",
    "version": 3
   },
   "file_extension": ".py",
   "mimetype": "text/x-python",
   "name": "python",
   "nbconvert_exporter": "python",
   "pygments_lexer": "ipython3",
   "version": "3.12.0"
  }
 },
 "nbformat": 4,
 "nbformat_minor": 2
}
